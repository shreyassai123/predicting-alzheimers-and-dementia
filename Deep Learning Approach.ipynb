{
 "cells": [
  {
   "cell_type": "markdown",
   "metadata": {},
   "source": [
    "Predicting the Likelihood of Dementia in Senior Citizens and Alzheimer's Analysis"
   ]
  },
  {
   "cell_type": "code",
   "execution_count": 112,
   "metadata": {
    "id": "LbCjWJtdixTX"
   },
   "outputs": [],
   "source": [
    "# Importing necessary packages and libraries\n",
    "import numpy as np\n",
    "import pandas as pd\n",
    "import seaborn as sns\n",
    "import matplotlib.pyplot as plt\n",
    "import random\n",
    "from sklearn.preprocessing import LabelEncoder\n",
    "from scipy import stats\n",
    "from collections import Counter\n",
    "from sklearn.preprocessing import RobustScaler\n",
    "from sklearn.model_selection import train_test_split\n",
    "from sklearn.ensemble import VotingClassifier\n",
    "from xgboost import XGBClassifier\n",
    "from sklearn.ensemble import RandomForestClassifier\n",
    "from sklearn.ensemble import ExtraTreesClassifier\n",
    "from sklearn.neighbors import NearestCentroid\n",
    "from sklearn.tree import ExtraTreeClassifier\n",
    "from sklearn.experimental import enable_hist_gradient_boosting\n",
    "from sklearn.ensemble import HistGradientBoostingClassifier\n",
    "from sklearn.naive_bayes import GaussianNB\n",
    "from sklearn.metrics import accuracy_score as acs, confusion_matrix as cm"
   ]
  },
  {
   "cell_type": "code",
   "execution_count": 113,
   "metadata": {
    "id": "x7uYig_zjTZR"
   },
   "outputs": [],
   "source": [
    "# Reading the dataset taken to predict dementia and alzheimer's in patient\n",
    "df = pd.read_csv('oasis_longitudinal.csv')"
   ]
  },
  {
   "cell_type": "code",
   "execution_count": 114,
   "metadata": {
    "colab": {
     "base_uri": "https://localhost:8080/",
     "height": 206
    },
    "id": "4V8eIxIHi-8G",
    "outputId": "71f2161b-06d3-45d4-9ae0-1e0dba2138f5"
   },
   "outputs": [
    {
     "data": {
      "text/html": [
       "<div>\n",
       "<style scoped>\n",
       "    .dataframe tbody tr th:only-of-type {\n",
       "        vertical-align: middle;\n",
       "    }\n",
       "\n",
       "    .dataframe tbody tr th {\n",
       "        vertical-align: top;\n",
       "    }\n",
       "\n",
       "    .dataframe thead th {\n",
       "        text-align: right;\n",
       "    }\n",
       "</style>\n",
       "<table border=\"1\" class=\"dataframe\">\n",
       "  <thead>\n",
       "    <tr style=\"text-align: right;\">\n",
       "      <th></th>\n",
       "      <th>Subject ID</th>\n",
       "      <th>MRI ID</th>\n",
       "      <th>Group</th>\n",
       "      <th>Visit</th>\n",
       "      <th>MR Delay</th>\n",
       "      <th>M/F</th>\n",
       "      <th>Hand</th>\n",
       "      <th>Age</th>\n",
       "      <th>EDUC</th>\n",
       "      <th>SES</th>\n",
       "      <th>MMSE</th>\n",
       "      <th>CDR</th>\n",
       "      <th>eTIV</th>\n",
       "      <th>nWBV</th>\n",
       "      <th>ASF</th>\n",
       "    </tr>\n",
       "  </thead>\n",
       "  <tbody>\n",
       "    <tr>\n",
       "      <th>0</th>\n",
       "      <td>OAS2_0001</td>\n",
       "      <td>OAS2_0001_MR1</td>\n",
       "      <td>Nondemented</td>\n",
       "      <td>1</td>\n",
       "      <td>0</td>\n",
       "      <td>M</td>\n",
       "      <td>R</td>\n",
       "      <td>87</td>\n",
       "      <td>14</td>\n",
       "      <td>2.0</td>\n",
       "      <td>27.0</td>\n",
       "      <td>0.0</td>\n",
       "      <td>1987</td>\n",
       "      <td>0.696</td>\n",
       "      <td>0.883</td>\n",
       "    </tr>\n",
       "    <tr>\n",
       "      <th>1</th>\n",
       "      <td>OAS2_0001</td>\n",
       "      <td>OAS2_0001_MR2</td>\n",
       "      <td>Nondemented</td>\n",
       "      <td>2</td>\n",
       "      <td>457</td>\n",
       "      <td>M</td>\n",
       "      <td>R</td>\n",
       "      <td>88</td>\n",
       "      <td>14</td>\n",
       "      <td>2.0</td>\n",
       "      <td>30.0</td>\n",
       "      <td>0.0</td>\n",
       "      <td>2004</td>\n",
       "      <td>0.681</td>\n",
       "      <td>0.876</td>\n",
       "    </tr>\n",
       "    <tr>\n",
       "      <th>2</th>\n",
       "      <td>OAS2_0002</td>\n",
       "      <td>OAS2_0002_MR1</td>\n",
       "      <td>Demented</td>\n",
       "      <td>1</td>\n",
       "      <td>0</td>\n",
       "      <td>M</td>\n",
       "      <td>R</td>\n",
       "      <td>75</td>\n",
       "      <td>12</td>\n",
       "      <td>NaN</td>\n",
       "      <td>23.0</td>\n",
       "      <td>0.5</td>\n",
       "      <td>1678</td>\n",
       "      <td>0.736</td>\n",
       "      <td>1.046</td>\n",
       "    </tr>\n",
       "    <tr>\n",
       "      <th>3</th>\n",
       "      <td>OAS2_0002</td>\n",
       "      <td>OAS2_0002_MR2</td>\n",
       "      <td>Demented</td>\n",
       "      <td>2</td>\n",
       "      <td>560</td>\n",
       "      <td>M</td>\n",
       "      <td>R</td>\n",
       "      <td>76</td>\n",
       "      <td>12</td>\n",
       "      <td>NaN</td>\n",
       "      <td>28.0</td>\n",
       "      <td>0.5</td>\n",
       "      <td>1738</td>\n",
       "      <td>0.713</td>\n",
       "      <td>1.010</td>\n",
       "    </tr>\n",
       "    <tr>\n",
       "      <th>4</th>\n",
       "      <td>OAS2_0002</td>\n",
       "      <td>OAS2_0002_MR3</td>\n",
       "      <td>Demented</td>\n",
       "      <td>3</td>\n",
       "      <td>1895</td>\n",
       "      <td>M</td>\n",
       "      <td>R</td>\n",
       "      <td>80</td>\n",
       "      <td>12</td>\n",
       "      <td>NaN</td>\n",
       "      <td>22.0</td>\n",
       "      <td>0.5</td>\n",
       "      <td>1698</td>\n",
       "      <td>0.701</td>\n",
       "      <td>1.034</td>\n",
       "    </tr>\n",
       "  </tbody>\n",
       "</table>\n",
       "</div>"
      ],
      "text/plain": [
       "  Subject ID         MRI ID        Group  Visit  MR Delay M/F Hand  Age  EDUC  \\\n",
       "0  OAS2_0001  OAS2_0001_MR1  Nondemented      1         0   M    R   87    14   \n",
       "1  OAS2_0001  OAS2_0001_MR2  Nondemented      2       457   M    R   88    14   \n",
       "2  OAS2_0002  OAS2_0002_MR1     Demented      1         0   M    R   75    12   \n",
       "3  OAS2_0002  OAS2_0002_MR2     Demented      2       560   M    R   76    12   \n",
       "4  OAS2_0002  OAS2_0002_MR3     Demented      3      1895   M    R   80    12   \n",
       "\n",
       "   SES  MMSE  CDR  eTIV   nWBV    ASF  \n",
       "0  2.0  27.0  0.0  1987  0.696  0.883  \n",
       "1  2.0  30.0  0.0  2004  0.681  0.876  \n",
       "2  NaN  23.0  0.5  1678  0.736  1.046  \n",
       "3  NaN  28.0  0.5  1738  0.713  1.010  \n",
       "4  NaN  22.0  0.5  1698  0.701  1.034  "
      ]
     },
     "execution_count": 114,
     "metadata": {},
     "output_type": "execute_result"
    }
   ],
   "source": [
    "# Displaying the first 5 records of the dataset\n",
    "df.head()"
   ]
  },
  {
   "cell_type": "code",
   "execution_count": 115,
   "metadata": {
    "colab": {
     "base_uri": "https://localhost:8080/"
    },
    "id": "PTvxCJ7_E38G",
    "outputId": "73c6e289-0038-405f-94df-272ff302733c"
   },
   "outputs": [
    {
     "data": {
      "text/plain": [
       "(373, 15)"
      ]
     },
     "execution_count": 115,
     "metadata": {},
     "output_type": "execute_result"
    }
   ],
   "source": [
    "# Displaying the number of records and attributes present in the dataset\n",
    "df.shape"
   ]
  },
  {
   "cell_type": "code",
   "execution_count": 116,
   "metadata": {
    "colab": {
     "base_uri": "https://localhost:8080/",
     "height": 323
    },
    "id": "qZTUudgy0Tfs",
    "outputId": "7265957d-dedb-42f2-8e9c-8f833357a727"
   },
   "outputs": [
    {
     "data": {
      "text/plain": [
       "<AxesSubplot:>"
      ]
     },
     "execution_count": 116,
     "metadata": {},
     "output_type": "execute_result"
    },
    {
     "data": {
      "image/png": "[encoded data removed]",
      "text/plain": [
       "<Figure size 432x288 with 1 Axes>"
      ]
     },
     "metadata": {
      "needs_background": "light"
     },
     "output_type": "display_data"
    }
   ],
   "source": [
    "# Visualizing the count of missing values present in the dataset\n",
    "sns.heatmap(df.isna(), yticklabels = False, cbar = False, cmap = \"YlGnBu_r\")"
   ]
  },
  {
   "cell_type": "code",
   "execution_count": 117,
   "metadata": {
    "colab": {
     "base_uri": "https://localhost:8080/"
    },
    "id": "uTgrQLzlxVgf",
    "outputId": "12e8db2e-a203-4867-fbb4-8acd7e1678bf"
   },
   "outputs": [
    {
     "data": {
      "text/plain": [
       "Subject ID     0\n",
       "MRI ID         0\n",
       "Group          0\n",
       "Visit          0\n",
       "MR Delay       0\n",
       "M/F            0\n",
       "Hand           0\n",
       "Age            0\n",
       "EDUC           0\n",
       "SES           19\n",
       "MMSE           2\n",
       "CDR            0\n",
       "eTIV           0\n",
       "nWBV           0\n",
       "ASF            0\n",
       "dtype: int64"
      ]
     },
     "execution_count": 117,
     "metadata": {},
     "output_type": "execute_result"
    }
   ],
   "source": [
    "# Finding the exact count of missing values present in the dataset\n",
    "df.isna().sum()"
   ]
  },
  {
   "cell_type": "code",
   "execution_count": 118,
   "metadata": {
    "id": "sdj2_M_V2F0y"
   },
   "outputs": [],
   "source": [
    "# Creating a dataframe which consists of records having missing values in any of its attributes\n",
    "df1 = df[df.isna().any(axis = 1)]"
   ]
  },
  {
   "cell_type": "code",
   "execution_count": 119,
   "metadata": {
    "colab": {
     "base_uri": "https://localhost:8080/",
     "height": 645
    },
    "id": "FJUfUS3S2HS8",
    "outputId": "57cbd74a-58d6-470c-f27e-ba640d1c15bf"
   },
   "outputs": [
    {
     "data": {
      "text/html": [
       "<div>\n",
       "<style scoped>\n",
       "    .dataframe tbody tr th:only-of-type {\n",
       "        vertical-align: middle;\n",
       "    }\n",
       "\n",
       "    .dataframe tbody tr th {\n",
       "        vertical-align: top;\n",
       "    }\n",
       "\n",
       "    .dataframe thead th {\n",
       "        text-align: right;\n",
       "    }\n",
       "</style>\n",
       "<table border=\"1\" class=\"dataframe\">\n",
       "  <thead>\n",
       "    <tr style=\"text-align: right;\">\n",
       "      <th></th>\n",
       "      <th>Subject ID</th>\n",
       "      <th>MRI ID</th>\n",
       "      <th>Group</th>\n",
       "      <th>Visit</th>\n",
       "      <th>MR Delay</th>\n",
       "      <th>M/F</th>\n",
       "      <th>Hand</th>\n",
       "      <th>Age</th>\n",
       "      <th>EDUC</th>\n",
       "      <th>SES</th>\n",
       "      <th>MMSE</th>\n",
       "      <th>CDR</th>\n",
       "      <th>eTIV</th>\n",
       "      <th>nWBV</th>\n",
       "      <th>ASF</th>\n",
       "    </tr>\n",
       "  </thead>\n",
       "  <tbody>\n",
       "    <tr>\n",
       "      <th>2</th>\n",
       "      <td>OAS2_0002</td>\n",
       "      <td>OAS2_0002_MR1</td>\n",
       "      <td>Demented</td>\n",
       "      <td>1</td>\n",
       "      <td>0</td>\n",
       "      <td>M</td>\n",
       "      <td>R</td>\n",
       "      <td>75</td>\n",
       "      <td>12</td>\n",
       "      <td>NaN</td>\n",
       "      <td>23.0</td>\n",
       "      <td>0.5</td>\n",
       "      <td>1678</td>\n",
       "      <td>0.736</td>\n",
       "      <td>1.046</td>\n",
       "    </tr>\n",
       "    <tr>\n",
       "      <th>3</th>\n",
       "      <td>OAS2_0002</td>\n",
       "      <td>OAS2_0002_MR2</td>\n",
       "      <td>Demented</td>\n",
       "      <td>2</td>\n",
       "      <td>560</td>\n",
       "      <td>M</td>\n",
       "      <td>R</td>\n",
       "      <td>76</td>\n",
       "      <td>12</td>\n",
       "      <td>NaN</td>\n",
       "      <td>28.0</td>\n",
       "      <td>0.5</td>\n",
       "      <td>1738</td>\n",
       "      <td>0.713</td>\n",
       "      <td>1.010</td>\n",
       "    </tr>\n",
       "    <tr>\n",
       "      <th>4</th>\n",
       "      <td>OAS2_0002</td>\n",
       "      <td>OAS2_0002_MR3</td>\n",
       "      <td>Demented</td>\n",
       "      <td>3</td>\n",
       "      <td>1895</td>\n",
       "      <td>M</td>\n",
       "      <td>R</td>\n",
       "      <td>80</td>\n",
       "      <td>12</td>\n",
       "      <td>NaN</td>\n",
       "      <td>22.0</td>\n",
       "      <td>0.5</td>\n",
       "      <td>1698</td>\n",
       "      <td>0.701</td>\n",
       "      <td>1.034</td>\n",
       "    </tr>\n",
       "    <tr>\n",
       "      <th>10</th>\n",
       "      <td>OAS2_0007</td>\n",
       "      <td>OAS2_0007_MR1</td>\n",
       "      <td>Demented</td>\n",
       "      <td>1</td>\n",
       "      <td>0</td>\n",
       "      <td>M</td>\n",
       "      <td>R</td>\n",
       "      <td>71</td>\n",
       "      <td>16</td>\n",
       "      <td>NaN</td>\n",
       "      <td>28.0</td>\n",
       "      <td>0.5</td>\n",
       "      <td>1357</td>\n",
       "      <td>0.748</td>\n",
       "      <td>1.293</td>\n",
       "    </tr>\n",
       "    <tr>\n",
       "      <th>11</th>\n",
       "      <td>OAS2_0007</td>\n",
       "      <td>OAS2_0007_MR3</td>\n",
       "      <td>Demented</td>\n",
       "      <td>3</td>\n",
       "      <td>518</td>\n",
       "      <td>M</td>\n",
       "      <td>R</td>\n",
       "      <td>73</td>\n",
       "      <td>16</td>\n",
       "      <td>NaN</td>\n",
       "      <td>27.0</td>\n",
       "      <td>1.0</td>\n",
       "      <td>1365</td>\n",
       "      <td>0.727</td>\n",
       "      <td>1.286</td>\n",
       "    </tr>\n",
       "    <tr>\n",
       "      <th>12</th>\n",
       "      <td>OAS2_0007</td>\n",
       "      <td>OAS2_0007_MR4</td>\n",
       "      <td>Demented</td>\n",
       "      <td>4</td>\n",
       "      <td>1281</td>\n",
       "      <td>M</td>\n",
       "      <td>R</td>\n",
       "      <td>75</td>\n",
       "      <td>16</td>\n",
       "      <td>NaN</td>\n",
       "      <td>27.0</td>\n",
       "      <td>1.0</td>\n",
       "      <td>1372</td>\n",
       "      <td>0.710</td>\n",
       "      <td>1.279</td>\n",
       "    </tr>\n",
       "    <tr>\n",
       "      <th>134</th>\n",
       "      <td>OAS2_0063</td>\n",
       "      <td>OAS2_0063_MR1</td>\n",
       "      <td>Demented</td>\n",
       "      <td>1</td>\n",
       "      <td>0</td>\n",
       "      <td>F</td>\n",
       "      <td>R</td>\n",
       "      <td>80</td>\n",
       "      <td>12</td>\n",
       "      <td>NaN</td>\n",
       "      <td>30.0</td>\n",
       "      <td>0.5</td>\n",
       "      <td>1430</td>\n",
       "      <td>0.737</td>\n",
       "      <td>1.228</td>\n",
       "    </tr>\n",
       "    <tr>\n",
       "      <th>135</th>\n",
       "      <td>OAS2_0063</td>\n",
       "      <td>OAS2_0063_MR2</td>\n",
       "      <td>Demented</td>\n",
       "      <td>2</td>\n",
       "      <td>490</td>\n",
       "      <td>F</td>\n",
       "      <td>R</td>\n",
       "      <td>81</td>\n",
       "      <td>12</td>\n",
       "      <td>NaN</td>\n",
       "      <td>27.0</td>\n",
       "      <td>0.5</td>\n",
       "      <td>1453</td>\n",
       "      <td>0.721</td>\n",
       "      <td>1.208</td>\n",
       "    </tr>\n",
       "    <tr>\n",
       "      <th>207</th>\n",
       "      <td>OAS2_0099</td>\n",
       "      <td>OAS2_0099_MR1</td>\n",
       "      <td>Demented</td>\n",
       "      <td>1</td>\n",
       "      <td>0</td>\n",
       "      <td>F</td>\n",
       "      <td>R</td>\n",
       "      <td>80</td>\n",
       "      <td>12</td>\n",
       "      <td>NaN</td>\n",
       "      <td>27.0</td>\n",
       "      <td>0.5</td>\n",
       "      <td>1475</td>\n",
       "      <td>0.762</td>\n",
       "      <td>1.190</td>\n",
       "    </tr>\n",
       "    <tr>\n",
       "      <th>208</th>\n",
       "      <td>OAS2_0099</td>\n",
       "      <td>OAS2_0099_MR2</td>\n",
       "      <td>Demented</td>\n",
       "      <td>2</td>\n",
       "      <td>807</td>\n",
       "      <td>F</td>\n",
       "      <td>R</td>\n",
       "      <td>83</td>\n",
       "      <td>12</td>\n",
       "      <td>NaN</td>\n",
       "      <td>23.0</td>\n",
       "      <td>0.5</td>\n",
       "      <td>1484</td>\n",
       "      <td>0.750</td>\n",
       "      <td>1.183</td>\n",
       "    </tr>\n",
       "    <tr>\n",
       "      <th>237</th>\n",
       "      <td>OAS2_0114</td>\n",
       "      <td>OAS2_0114_MR1</td>\n",
       "      <td>Demented</td>\n",
       "      <td>1</td>\n",
       "      <td>0</td>\n",
       "      <td>F</td>\n",
       "      <td>R</td>\n",
       "      <td>76</td>\n",
       "      <td>12</td>\n",
       "      <td>NaN</td>\n",
       "      <td>27.0</td>\n",
       "      <td>0.5</td>\n",
       "      <td>1316</td>\n",
       "      <td>0.727</td>\n",
       "      <td>1.333</td>\n",
       "    </tr>\n",
       "    <tr>\n",
       "      <th>238</th>\n",
       "      <td>OAS2_0114</td>\n",
       "      <td>OAS2_0114_MR2</td>\n",
       "      <td>Demented</td>\n",
       "      <td>2</td>\n",
       "      <td>570</td>\n",
       "      <td>F</td>\n",
       "      <td>R</td>\n",
       "      <td>78</td>\n",
       "      <td>12</td>\n",
       "      <td>NaN</td>\n",
       "      <td>27.0</td>\n",
       "      <td>1.0</td>\n",
       "      <td>1309</td>\n",
       "      <td>0.709</td>\n",
       "      <td>1.341</td>\n",
       "    </tr>\n",
       "    <tr>\n",
       "      <th>322</th>\n",
       "      <td>OAS2_0160</td>\n",
       "      <td>OAS2_0160_MR1</td>\n",
       "      <td>Demented</td>\n",
       "      <td>1</td>\n",
       "      <td>0</td>\n",
       "      <td>M</td>\n",
       "      <td>R</td>\n",
       "      <td>76</td>\n",
       "      <td>12</td>\n",
       "      <td>NaN</td>\n",
       "      <td>27.0</td>\n",
       "      <td>0.5</td>\n",
       "      <td>1557</td>\n",
       "      <td>0.705</td>\n",
       "      <td>1.127</td>\n",
       "    </tr>\n",
       "    <tr>\n",
       "      <th>323</th>\n",
       "      <td>OAS2_0160</td>\n",
       "      <td>OAS2_0160_MR2</td>\n",
       "      <td>Demented</td>\n",
       "      <td>2</td>\n",
       "      <td>552</td>\n",
       "      <td>M</td>\n",
       "      <td>R</td>\n",
       "      <td>78</td>\n",
       "      <td>12</td>\n",
       "      <td>NaN</td>\n",
       "      <td>29.0</td>\n",
       "      <td>1.0</td>\n",
       "      <td>1569</td>\n",
       "      <td>0.704</td>\n",
       "      <td>1.119</td>\n",
       "    </tr>\n",
       "    <tr>\n",
       "      <th>356</th>\n",
       "      <td>OAS2_0181</td>\n",
       "      <td>OAS2_0181_MR1</td>\n",
       "      <td>Demented</td>\n",
       "      <td>1</td>\n",
       "      <td>0</td>\n",
       "      <td>F</td>\n",
       "      <td>R</td>\n",
       "      <td>74</td>\n",
       "      <td>12</td>\n",
       "      <td>NaN</td>\n",
       "      <td>26.0</td>\n",
       "      <td>0.5</td>\n",
       "      <td>1171</td>\n",
       "      <td>0.733</td>\n",
       "      <td>1.499</td>\n",
       "    </tr>\n",
       "    <tr>\n",
       "      <th>357</th>\n",
       "      <td>OAS2_0181</td>\n",
       "      <td>OAS2_0181_MR2</td>\n",
       "      <td>Demented</td>\n",
       "      <td>2</td>\n",
       "      <td>539</td>\n",
       "      <td>F</td>\n",
       "      <td>R</td>\n",
       "      <td>75</td>\n",
       "      <td>12</td>\n",
       "      <td>NaN</td>\n",
       "      <td>NaN</td>\n",
       "      <td>1.0</td>\n",
       "      <td>1169</td>\n",
       "      <td>0.742</td>\n",
       "      <td>1.501</td>\n",
       "    </tr>\n",
       "    <tr>\n",
       "      <th>358</th>\n",
       "      <td>OAS2_0181</td>\n",
       "      <td>OAS2_0181_MR3</td>\n",
       "      <td>Demented</td>\n",
       "      <td>3</td>\n",
       "      <td>1107</td>\n",
       "      <td>F</td>\n",
       "      <td>R</td>\n",
       "      <td>77</td>\n",
       "      <td>12</td>\n",
       "      <td>NaN</td>\n",
       "      <td>NaN</td>\n",
       "      <td>1.0</td>\n",
       "      <td>1159</td>\n",
       "      <td>0.733</td>\n",
       "      <td>1.515</td>\n",
       "    </tr>\n",
       "    <tr>\n",
       "      <th>359</th>\n",
       "      <td>OAS2_0182</td>\n",
       "      <td>OAS2_0182_MR1</td>\n",
       "      <td>Demented</td>\n",
       "      <td>1</td>\n",
       "      <td>0</td>\n",
       "      <td>M</td>\n",
       "      <td>R</td>\n",
       "      <td>73</td>\n",
       "      <td>12</td>\n",
       "      <td>NaN</td>\n",
       "      <td>23.0</td>\n",
       "      <td>0.5</td>\n",
       "      <td>1661</td>\n",
       "      <td>0.698</td>\n",
       "      <td>1.056</td>\n",
       "    </tr>\n",
       "    <tr>\n",
       "      <th>360</th>\n",
       "      <td>OAS2_0182</td>\n",
       "      <td>OAS2_0182_MR2</td>\n",
       "      <td>Demented</td>\n",
       "      <td>2</td>\n",
       "      <td>776</td>\n",
       "      <td>M</td>\n",
       "      <td>R</td>\n",
       "      <td>75</td>\n",
       "      <td>12</td>\n",
       "      <td>NaN</td>\n",
       "      <td>20.0</td>\n",
       "      <td>0.5</td>\n",
       "      <td>1654</td>\n",
       "      <td>0.696</td>\n",
       "      <td>1.061</td>\n",
       "    </tr>\n",
       "  </tbody>\n",
       "</table>\n",
       "</div>"
      ],
      "text/plain": [
       "    Subject ID         MRI ID     Group  Visit  MR Delay M/F Hand  Age  EDUC  \\\n",
       "2    OAS2_0002  OAS2_0002_MR1  Demented      1         0   M    R   75    12   \n",
       "3    OAS2_0002  OAS2_0002_MR2  Demented      2       560   M    R   76    12   \n",
       "4    OAS2_0002  OAS2_0002_MR3  Demented      3      1895   M    R   80    12   \n",
       "10   OAS2_0007  OAS2_0007_MR1  Demented      1         0   M    R   71    16   \n",
       "11   OAS2_0007  OAS2_0007_MR3  Demented      3       518   M    R   73    16   \n",
       "12   OAS2_0007  OAS2_0007_MR4  Demented      4      1281   M    R   75    16   \n",
       "134  OAS2_0063  OAS2_0063_MR1  Demented      1         0   F    R   80    12   \n",
       "135  OAS2_0063  OAS2_0063_MR2  Demented      2       490   F    R   81    12   \n",
       "207  OAS2_0099  OAS2_0099_MR1  Demented      1         0   F    R   80    12   \n",
       "208  OAS2_0099  OAS2_0099_MR2  Demented      2       807   F    R   83    12   \n",
       "237  OAS2_0114  OAS2_0114_MR1  Demented      1         0   F    R   76    12   \n",
       "238  OAS2_0114  OAS2_0114_MR2  Demented      2       570   F    R   78    12   \n",
       "322  OAS2_0160  OAS2_0160_MR1  Demented      1         0   M    R   76    12   \n",
       "323  OAS2_0160  OAS2_0160_MR2  Demented      2       552   M    R   78    12   \n",
       "356  OAS2_0181  OAS2_0181_MR1  Demented      1         0   F    R   74    12   \n",
       "357  OAS2_0181  OAS2_0181_MR2  Demented      2       539   F    R   75    12   \n",
       "358  OAS2_0181  OAS2_0181_MR3  Demented      3      1107   F    R   77    12   \n",
       "359  OAS2_0182  OAS2_0182_MR1  Demented      1         0   M    R   73    12   \n",
       "360  OAS2_0182  OAS2_0182_MR2  Demented      2       776   M    R   75    12   \n",
       "\n",
       "     SES  MMSE  CDR  eTIV   nWBV    ASF  \n",
       "2    NaN  23.0  0.5  1678  0.736  1.046  \n",
       "3    NaN  28.0  0.5  1738  0.713  1.010  \n",
       "4    NaN  22.0  0.5  1698  0.701  1.034  \n",
       "10   NaN  28.0  0.5  1357  0.748  1.293  \n",
       "11   NaN  27.0  1.0  1365  0.727  1.286  \n",
       "12   NaN  27.0  1.0  1372  0.710  1.279  \n",
       "134  NaN  30.0  0.5  1430  0.737  1.228  \n",
       "135  NaN  27.0  0.5  1453  0.721  1.208  \n",
       "207  NaN  27.0  0.5  1475  0.762  1.190  \n",
       "208  NaN  23.0  0.5  1484  0.750  1.183  \n",
       "237  NaN  27.0  0.5  1316  0.727  1.333  \n",
       "238  NaN  27.0  1.0  1309  0.709  1.341  \n",
       "322  NaN  27.0  0.5  1557  0.705  1.127  \n",
       "323  NaN  29.0  1.0  1569  0.704  1.119  \n",
       "356  NaN  26.0  0.5  1171  0.733  1.499  \n",
       "357  NaN   NaN  1.0  1169  0.742  1.501  \n",
       "358  NaN   NaN  1.0  1159  0.733  1.515  \n",
       "359  NaN  23.0  0.5  1661  0.698  1.056  \n",
       "360  NaN  20.0  0.5  1654  0.696  1.061  "
      ]
     },
     "execution_count": 119,
     "metadata": {},
     "output_type": "execute_result"
    }
   ],
   "source": [
    "df1"
   ]
  },
  {
   "cell_type": "code",
   "execution_count": 120,
   "metadata": {},
   "outputs": [
    {
     "name": "stdout",
     "output_type": "stream",
     "text": [
      "Pearson correlation coefficient for SES and EDUC: nan\n"
     ]
    }
   ],
   "source": [
    "print(\"Pearson correlation coefficient for SES and EDUC:\", np.corrcoef(df['SES'],df['EDUC'])[0,1])"
   ]
  },
  {
   "cell_type": "code",
   "execution_count": 121,
   "metadata": {
    "id": "vur01jfb2tlP"
   },
   "outputs": [],
   "source": [
    "# Creating a dataframe which consists of records which have years of education (i.e. EDUC) = 12\n",
    "df2 = df[df['EDUC'] == 12]"
   ]
  },
  {
   "cell_type": "code",
   "execution_count": 122,
   "metadata": {},
   "outputs": [
    {
     "data": {
      "image/png": "[encoded data removed]",
      "text/plain": [
       "<Figure size 432x288 with 1 Axes>"
      ]
     },
     "metadata": {
      "needs_background": "light"
     },
     "output_type": "display_data"
    }
   ],
   "source": [
    "ax = sns.countplot(x = 'SES', data = df2, palette = 'YlGnBu')\n",
    "plt.title('Count of the Different Values of SES when EDUC = 12')\n",
    "for p in ax.patches:\n",
    "   ax.annotate('{:.0f}'.format(p.get_height()), (p.get_x() + 0.3, p.get_height() + 0.5))\n",
    "plt.show()"
   ]
  },
  {
   "cell_type": "code",
   "execution_count": 123,
   "metadata": {
    "id": "bzEFgW8w57hY"
   },
   "outputs": [],
   "source": [
    "# Creating a dataframe which consists of records which have years of education (i.e. EDUC) = 16\n",
    "df2 = df[(df['EDUC'] == 16)]"
   ]
  },
  {
   "cell_type": "code",
   "execution_count": 124,
   "metadata": {
    "colab": {
     "base_uri": "https://localhost:8080/"
    },
    "id": "LRCdTSC36Aox",
    "outputId": "3aabe58c-f90e-4f10-839d-ff3facbadd00"
   },
   "outputs": [
    {
     "data": {
      "image/png": "[encoded data removed]",
      "text/plain": [
       "<Figure size 432x288 with 1 Axes>"
      ]
     },
     "metadata": {
      "needs_background": "light"
     },
     "output_type": "display_data"
    }
   ],
   "source": [
    "ax = sns.countplot(x = 'SES', data = df2, palette = 'YlGnBu')\n",
    "plt.title('Count of the Different Values of SES when EDUC = 16')\n",
    "for p in ax.patches:\n",
    "   ax.annotate('{:.0f}'.format(p.get_height()), (p.get_x() + 0.3, p.get_height() + 0.5))\n",
    "plt.show()"
   ]
  },
  {
   "cell_type": "code",
   "execution_count": 125,
   "metadata": {
    "colab": {
     "base_uri": "https://localhost:8080/"
    },
    "id": "A_oabRtbxfBt",
    "outputId": "9110f663-bb7f-46ae-911f-0b6671b77c7a"
   },
   "outputs": [
    {
     "data": {
      "image/png": "[encoded data removed]",
      "text/plain": [
       "<Figure size 432x288 with 1 Axes>"
      ]
     },
     "metadata": {
      "needs_background": "light"
     },
     "output_type": "display_data"
    }
   ],
   "source": [
    "ax = sns.countplot(x = 'SES', data = df, palette = 'YlGnBu')\n",
    "plt.title('Count of the Different Values of SES')\n",
    "for p in ax.patches:\n",
    "   ax.annotate('{:.0f}'.format(p.get_height()), (p.get_x() + 0.3, p.get_height() + 0.8))\n",
    "plt.show()"
   ]
  },
  {
   "cell_type": "code",
   "execution_count": 126,
   "metadata": {
    "colab": {
     "base_uri": "https://localhost:8080/"
    },
    "id": "74Tp1h9rzIVm",
    "outputId": "70330718-ac92-4c48-d420-31e0bf544dde"
   },
   "outputs": [
    {
     "data": {
      "image/png": "[encoded data removed]",
      "text/plain": [
       "<Figure size 432x288 with 1 Axes>"
      ]
     },
     "metadata": {
      "needs_background": "light"
     },
     "output_type": "display_data"
    }
   ],
   "source": [
    "ax = sns.countplot(x = 'EDUC', data = df, palette = 'YlGnBu')\n",
    "plt.title('Count of the Different Values of EDUC')\n",
    "for p in ax.patches:\n",
    "   ax.annotate('{:.0f}'.format(p.get_height()), (p.get_x() + 0.18, p.get_height() + 0.8))\n",
    "plt.show()"
   ]
  },
  {
   "cell_type": "code",
   "execution_count": 127,
   "metadata": {
    "id": "wKmvDmUS5eJE"
   },
   "outputs": [],
   "source": [
    "# Creating a function for imputing the missing SES values\n",
    "def addSES(cols):\n",
    "    SES = cols[0]\n",
    "    EDUC = cols[1]\n",
    "    if pd.isnull(SES):\n",
    "      if EDUC == 12:\n",
    "        x = random.randint(1, 87)\n",
    "        if x < 43:\n",
    "          return 4.0 \n",
    "        elif x < 75:\n",
    "          return 3.0\n",
    "        else: \n",
    "          return 2.0\n",
    "      else:  \n",
    "        x = random.randint(1, 38)\n",
    "        if x < 25:\n",
    "          return 3.0\n",
    "        else:\n",
    "          return 2.0\n",
    "    else:\n",
    "      return SES"
   ]
  },
  {
   "cell_type": "code",
   "execution_count": 128,
   "metadata": {
    "id": "MiTAN-NN-C7X"
   },
   "outputs": [],
   "source": [
    "# Imputing missing SES values in the dataset\n",
    "df['SES'] = df[['SES','EDUC']].apply(addSES, axis = 1)"
   ]
  },
  {
   "cell_type": "code",
   "execution_count": 129,
   "metadata": {},
   "outputs": [
    {
     "data": {
      "text/html": [
       "<div>\n",
       "<style scoped>\n",
       "    .dataframe tbody tr th:only-of-type {\n",
       "        vertical-align: middle;\n",
       "    }\n",
       "\n",
       "    .dataframe tbody tr th {\n",
       "        vertical-align: top;\n",
       "    }\n",
       "\n",
       "    .dataframe thead th {\n",
       "        text-align: right;\n",
       "    }\n",
       "</style>\n",
       "<table border=\"1\" class=\"dataframe\">\n",
       "  <thead>\n",
       "    <tr style=\"text-align: right;\">\n",
       "      <th></th>\n",
       "      <th>Subject ID</th>\n",
       "      <th>MRI ID</th>\n",
       "      <th>Group</th>\n",
       "      <th>Visit</th>\n",
       "      <th>MR Delay</th>\n",
       "      <th>M/F</th>\n",
       "      <th>Hand</th>\n",
       "      <th>Age</th>\n",
       "      <th>EDUC</th>\n",
       "      <th>SES</th>\n",
       "      <th>MMSE</th>\n",
       "      <th>CDR</th>\n",
       "      <th>eTIV</th>\n",
       "      <th>nWBV</th>\n",
       "      <th>ASF</th>\n",
       "    </tr>\n",
       "  </thead>\n",
       "  <tbody>\n",
       "    <tr>\n",
       "      <th>2</th>\n",
       "      <td>OAS2_0002</td>\n",
       "      <td>OAS2_0002_MR1</td>\n",
       "      <td>Demented</td>\n",
       "      <td>1</td>\n",
       "      <td>0</td>\n",
       "      <td>M</td>\n",
       "      <td>R</td>\n",
       "      <td>75</td>\n",
       "      <td>12</td>\n",
       "      <td>NaN</td>\n",
       "      <td>23.0</td>\n",
       "      <td>0.5</td>\n",
       "      <td>1678</td>\n",
       "      <td>0.736</td>\n",
       "      <td>1.046</td>\n",
       "    </tr>\n",
       "    <tr>\n",
       "      <th>3</th>\n",
       "      <td>OAS2_0002</td>\n",
       "      <td>OAS2_0002_MR2</td>\n",
       "      <td>Demented</td>\n",
       "      <td>2</td>\n",
       "      <td>560</td>\n",
       "      <td>M</td>\n",
       "      <td>R</td>\n",
       "      <td>76</td>\n",
       "      <td>12</td>\n",
       "      <td>NaN</td>\n",
       "      <td>28.0</td>\n",
       "      <td>0.5</td>\n",
       "      <td>1738</td>\n",
       "      <td>0.713</td>\n",
       "      <td>1.010</td>\n",
       "    </tr>\n",
       "    <tr>\n",
       "      <th>4</th>\n",
       "      <td>OAS2_0002</td>\n",
       "      <td>OAS2_0002_MR3</td>\n",
       "      <td>Demented</td>\n",
       "      <td>3</td>\n",
       "      <td>1895</td>\n",
       "      <td>M</td>\n",
       "      <td>R</td>\n",
       "      <td>80</td>\n",
       "      <td>12</td>\n",
       "      <td>NaN</td>\n",
       "      <td>22.0</td>\n",
       "      <td>0.5</td>\n",
       "      <td>1698</td>\n",
       "      <td>0.701</td>\n",
       "      <td>1.034</td>\n",
       "    </tr>\n",
       "    <tr>\n",
       "      <th>10</th>\n",
       "      <td>OAS2_0007</td>\n",
       "      <td>OAS2_0007_MR1</td>\n",
       "      <td>Demented</td>\n",
       "      <td>1</td>\n",
       "      <td>0</td>\n",
       "      <td>M</td>\n",
       "      <td>R</td>\n",
       "      <td>71</td>\n",
       "      <td>16</td>\n",
       "      <td>NaN</td>\n",
       "      <td>28.0</td>\n",
       "      <td>0.5</td>\n",
       "      <td>1357</td>\n",
       "      <td>0.748</td>\n",
       "      <td>1.293</td>\n",
       "    </tr>\n",
       "    <tr>\n",
       "      <th>11</th>\n",
       "      <td>OAS2_0007</td>\n",
       "      <td>OAS2_0007_MR3</td>\n",
       "      <td>Demented</td>\n",
       "      <td>3</td>\n",
       "      <td>518</td>\n",
       "      <td>M</td>\n",
       "      <td>R</td>\n",
       "      <td>73</td>\n",
       "      <td>16</td>\n",
       "      <td>NaN</td>\n",
       "      <td>27.0</td>\n",
       "      <td>1.0</td>\n",
       "      <td>1365</td>\n",
       "      <td>0.727</td>\n",
       "      <td>1.286</td>\n",
       "    </tr>\n",
       "    <tr>\n",
       "      <th>12</th>\n",
       "      <td>OAS2_0007</td>\n",
       "      <td>OAS2_0007_MR4</td>\n",
       "      <td>Demented</td>\n",
       "      <td>4</td>\n",
       "      <td>1281</td>\n",
       "      <td>M</td>\n",
       "      <td>R</td>\n",
       "      <td>75</td>\n",
       "      <td>16</td>\n",
       "      <td>NaN</td>\n",
       "      <td>27.0</td>\n",
       "      <td>1.0</td>\n",
       "      <td>1372</td>\n",
       "      <td>0.710</td>\n",
       "      <td>1.279</td>\n",
       "    </tr>\n",
       "    <tr>\n",
       "      <th>134</th>\n",
       "      <td>OAS2_0063</td>\n",
       "      <td>OAS2_0063_MR1</td>\n",
       "      <td>Demented</td>\n",
       "      <td>1</td>\n",
       "      <td>0</td>\n",
       "      <td>F</td>\n",
       "      <td>R</td>\n",
       "      <td>80</td>\n",
       "      <td>12</td>\n",
       "      <td>NaN</td>\n",
       "      <td>30.0</td>\n",
       "      <td>0.5</td>\n",
       "      <td>1430</td>\n",
       "      <td>0.737</td>\n",
       "      <td>1.228</td>\n",
       "    </tr>\n",
       "    <tr>\n",
       "      <th>135</th>\n",
       "      <td>OAS2_0063</td>\n",
       "      <td>OAS2_0063_MR2</td>\n",
       "      <td>Demented</td>\n",
       "      <td>2</td>\n",
       "      <td>490</td>\n",
       "      <td>F</td>\n",
       "      <td>R</td>\n",
       "      <td>81</td>\n",
       "      <td>12</td>\n",
       "      <td>NaN</td>\n",
       "      <td>27.0</td>\n",
       "      <td>0.5</td>\n",
       "      <td>1453</td>\n",
       "      <td>0.721</td>\n",
       "      <td>1.208</td>\n",
       "    </tr>\n",
       "    <tr>\n",
       "      <th>207</th>\n",
       "      <td>OAS2_0099</td>\n",
       "      <td>OAS2_0099_MR1</td>\n",
       "      <td>Demented</td>\n",
       "      <td>1</td>\n",
       "      <td>0</td>\n",
       "      <td>F</td>\n",
       "      <td>R</td>\n",
       "      <td>80</td>\n",
       "      <td>12</td>\n",
       "      <td>NaN</td>\n",
       "      <td>27.0</td>\n",
       "      <td>0.5</td>\n",
       "      <td>1475</td>\n",
       "      <td>0.762</td>\n",
       "      <td>1.190</td>\n",
       "    </tr>\n",
       "    <tr>\n",
       "      <th>208</th>\n",
       "      <td>OAS2_0099</td>\n",
       "      <td>OAS2_0099_MR2</td>\n",
       "      <td>Demented</td>\n",
       "      <td>2</td>\n",
       "      <td>807</td>\n",
       "      <td>F</td>\n",
       "      <td>R</td>\n",
       "      <td>83</td>\n",
       "      <td>12</td>\n",
       "      <td>NaN</td>\n",
       "      <td>23.0</td>\n",
       "      <td>0.5</td>\n",
       "      <td>1484</td>\n",
       "      <td>0.750</td>\n",
       "      <td>1.183</td>\n",
       "    </tr>\n",
       "    <tr>\n",
       "      <th>237</th>\n",
       "      <td>OAS2_0114</td>\n",
       "      <td>OAS2_0114_MR1</td>\n",
       "      <td>Demented</td>\n",
       "      <td>1</td>\n",
       "      <td>0</td>\n",
       "      <td>F</td>\n",
       "      <td>R</td>\n",
       "      <td>76</td>\n",
       "      <td>12</td>\n",
       "      <td>NaN</td>\n",
       "      <td>27.0</td>\n",
       "      <td>0.5</td>\n",
       "      <td>1316</td>\n",
       "      <td>0.727</td>\n",
       "      <td>1.333</td>\n",
       "    </tr>\n",
       "    <tr>\n",
       "      <th>238</th>\n",
       "      <td>OAS2_0114</td>\n",
       "      <td>OAS2_0114_MR2</td>\n",
       "      <td>Demented</td>\n",
       "      <td>2</td>\n",
       "      <td>570</td>\n",
       "      <td>F</td>\n",
       "      <td>R</td>\n",
       "      <td>78</td>\n",
       "      <td>12</td>\n",
       "      <td>NaN</td>\n",
       "      <td>27.0</td>\n",
       "      <td>1.0</td>\n",
       "      <td>1309</td>\n",
       "      <td>0.709</td>\n",
       "      <td>1.341</td>\n",
       "    </tr>\n",
       "    <tr>\n",
       "      <th>322</th>\n",
       "      <td>OAS2_0160</td>\n",
       "      <td>OAS2_0160_MR1</td>\n",
       "      <td>Demented</td>\n",
       "      <td>1</td>\n",
       "      <td>0</td>\n",
       "      <td>M</td>\n",
       "      <td>R</td>\n",
       "      <td>76</td>\n",
       "      <td>12</td>\n",
       "      <td>NaN</td>\n",
       "      <td>27.0</td>\n",
       "      <td>0.5</td>\n",
       "      <td>1557</td>\n",
       "      <td>0.705</td>\n",
       "      <td>1.127</td>\n",
       "    </tr>\n",
       "    <tr>\n",
       "      <th>323</th>\n",
       "      <td>OAS2_0160</td>\n",
       "      <td>OAS2_0160_MR2</td>\n",
       "      <td>Demented</td>\n",
       "      <td>2</td>\n",
       "      <td>552</td>\n",
       "      <td>M</td>\n",
       "      <td>R</td>\n",
       "      <td>78</td>\n",
       "      <td>12</td>\n",
       "      <td>NaN</td>\n",
       "      <td>29.0</td>\n",
       "      <td>1.0</td>\n",
       "      <td>1569</td>\n",
       "      <td>0.704</td>\n",
       "      <td>1.119</td>\n",
       "    </tr>\n",
       "    <tr>\n",
       "      <th>356</th>\n",
       "      <td>OAS2_0181</td>\n",
       "      <td>OAS2_0181_MR1</td>\n",
       "      <td>Demented</td>\n",
       "      <td>1</td>\n",
       "      <td>0</td>\n",
       "      <td>F</td>\n",
       "      <td>R</td>\n",
       "      <td>74</td>\n",
       "      <td>12</td>\n",
       "      <td>NaN</td>\n",
       "      <td>26.0</td>\n",
       "      <td>0.5</td>\n",
       "      <td>1171</td>\n",
       "      <td>0.733</td>\n",
       "      <td>1.499</td>\n",
       "    </tr>\n",
       "    <tr>\n",
       "      <th>357</th>\n",
       "      <td>OAS2_0181</td>\n",
       "      <td>OAS2_0181_MR2</td>\n",
       "      <td>Demented</td>\n",
       "      <td>2</td>\n",
       "      <td>539</td>\n",
       "      <td>F</td>\n",
       "      <td>R</td>\n",
       "      <td>75</td>\n",
       "      <td>12</td>\n",
       "      <td>NaN</td>\n",
       "      <td>NaN</td>\n",
       "      <td>1.0</td>\n",
       "      <td>1169</td>\n",
       "      <td>0.742</td>\n",
       "      <td>1.501</td>\n",
       "    </tr>\n",
       "    <tr>\n",
       "      <th>358</th>\n",
       "      <td>OAS2_0181</td>\n",
       "      <td>OAS2_0181_MR3</td>\n",
       "      <td>Demented</td>\n",
       "      <td>3</td>\n",
       "      <td>1107</td>\n",
       "      <td>F</td>\n",
       "      <td>R</td>\n",
       "      <td>77</td>\n",
       "      <td>12</td>\n",
       "      <td>NaN</td>\n",
       "      <td>NaN</td>\n",
       "      <td>1.0</td>\n",
       "      <td>1159</td>\n",
       "      <td>0.733</td>\n",
       "      <td>1.515</td>\n",
       "    </tr>\n",
       "    <tr>\n",
       "      <th>359</th>\n",
       "      <td>OAS2_0182</td>\n",
       "      <td>OAS2_0182_MR1</td>\n",
       "      <td>Demented</td>\n",
       "      <td>1</td>\n",
       "      <td>0</td>\n",
       "      <td>M</td>\n",
       "      <td>R</td>\n",
       "      <td>73</td>\n",
       "      <td>12</td>\n",
       "      <td>NaN</td>\n",
       "      <td>23.0</td>\n",
       "      <td>0.5</td>\n",
       "      <td>1661</td>\n",
       "      <td>0.698</td>\n",
       "      <td>1.056</td>\n",
       "    </tr>\n",
       "    <tr>\n",
       "      <th>360</th>\n",
       "      <td>OAS2_0182</td>\n",
       "      <td>OAS2_0182_MR2</td>\n",
       "      <td>Demented</td>\n",
       "      <td>2</td>\n",
       "      <td>776</td>\n",
       "      <td>M</td>\n",
       "      <td>R</td>\n",
       "      <td>75</td>\n",
       "      <td>12</td>\n",
       "      <td>NaN</td>\n",
       "      <td>20.0</td>\n",
       "      <td>0.5</td>\n",
       "      <td>1654</td>\n",
       "      <td>0.696</td>\n",
       "      <td>1.061</td>\n",
       "    </tr>\n",
       "  </tbody>\n",
       "</table>\n",
       "</div>"
      ],
      "text/plain": [
       "    Subject ID         MRI ID     Group  Visit  MR Delay M/F Hand  Age  EDUC  \\\n",
       "2    OAS2_0002  OAS2_0002_MR1  Demented      1         0   M    R   75    12   \n",
       "3    OAS2_0002  OAS2_0002_MR2  Demented      2       560   M    R   76    12   \n",
       "4    OAS2_0002  OAS2_0002_MR3  Demented      3      1895   M    R   80    12   \n",
       "10   OAS2_0007  OAS2_0007_MR1  Demented      1         0   M    R   71    16   \n",
       "11   OAS2_0007  OAS2_0007_MR3  Demented      3       518   M    R   73    16   \n",
       "12   OAS2_0007  OAS2_0007_MR4  Demented      4      1281   M    R   75    16   \n",
       "134  OAS2_0063  OAS2_0063_MR1  Demented      1         0   F    R   80    12   \n",
       "135  OAS2_0063  OAS2_0063_MR2  Demented      2       490   F    R   81    12   \n",
       "207  OAS2_0099  OAS2_0099_MR1  Demented      1         0   F    R   80    12   \n",
       "208  OAS2_0099  OAS2_0099_MR2  Demented      2       807   F    R   83    12   \n",
       "237  OAS2_0114  OAS2_0114_MR1  Demented      1         0   F    R   76    12   \n",
       "238  OAS2_0114  OAS2_0114_MR2  Demented      2       570   F    R   78    12   \n",
       "322  OAS2_0160  OAS2_0160_MR1  Demented      1         0   M    R   76    12   \n",
       "323  OAS2_0160  OAS2_0160_MR2  Demented      2       552   M    R   78    12   \n",
       "356  OAS2_0181  OAS2_0181_MR1  Demented      1         0   F    R   74    12   \n",
       "357  OAS2_0181  OAS2_0181_MR2  Demented      2       539   F    R   75    12   \n",
       "358  OAS2_0181  OAS2_0181_MR3  Demented      3      1107   F    R   77    12   \n",
       "359  OAS2_0182  OAS2_0182_MR1  Demented      1         0   M    R   73    12   \n",
       "360  OAS2_0182  OAS2_0182_MR2  Demented      2       776   M    R   75    12   \n",
       "\n",
       "     SES  MMSE  CDR  eTIV   nWBV    ASF  \n",
       "2    NaN  23.0  0.5  1678  0.736  1.046  \n",
       "3    NaN  28.0  0.5  1738  0.713  1.010  \n",
       "4    NaN  22.0  0.5  1698  0.701  1.034  \n",
       "10   NaN  28.0  0.5  1357  0.748  1.293  \n",
       "11   NaN  27.0  1.0  1365  0.727  1.286  \n",
       "12   NaN  27.0  1.0  1372  0.710  1.279  \n",
       "134  NaN  30.0  0.5  1430  0.737  1.228  \n",
       "135  NaN  27.0  0.5  1453  0.721  1.208  \n",
       "207  NaN  27.0  0.5  1475  0.762  1.190  \n",
       "208  NaN  23.0  0.5  1484  0.750  1.183  \n",
       "237  NaN  27.0  0.5  1316  0.727  1.333  \n",
       "238  NaN  27.0  1.0  1309  0.709  1.341  \n",
       "322  NaN  27.0  0.5  1557  0.705  1.127  \n",
       "323  NaN  29.0  1.0  1569  0.704  1.119  \n",
       "356  NaN  26.0  0.5  1171  0.733  1.499  \n",
       "357  NaN   NaN  1.0  1169  0.742  1.501  \n",
       "358  NaN   NaN  1.0  1159  0.733  1.515  \n",
       "359  NaN  23.0  0.5  1661  0.698  1.056  \n",
       "360  NaN  20.0  0.5  1654  0.696  1.061  "
      ]
     },
     "execution_count": 129,
     "metadata": {},
     "output_type": "execute_result"
    }
   ],
   "source": [
    "df1"
   ]
  },
  {
   "cell_type": "code",
   "execution_count": 130,
   "metadata": {
    "id": "aQ8wCNhk3bc2"
   },
   "outputs": [],
   "source": [
    "# Creating a dataframe which consists of records which have CDR = 1, gender = female, dominant hand = right and years of \n",
    "# education (i.e. EDUC) = 12 since these are the common attribute values for the records having missing MMSE values\n",
    "df3 = df[(df['CDR'] == 1.0) & (df['M/F'] == 'F') & (df['Hand'] == 'R') & (df['EDUC'] == 12)]"
   ]
  },
  {
   "cell_type": "code",
   "execution_count": 131,
   "metadata": {
    "colab": {
     "base_uri": "https://localhost:8080/"
    },
    "id": "oB35MxXv3geu",
    "outputId": "e1a13a78-fee1-4587-c2e9-e69c40aaabed"
   },
   "outputs": [
    {
     "data": {
      "image/png": "[encoded data removed]",
      "text/plain": [
       "<Figure size 432x288 with 1 Axes>"
      ]
     },
     "metadata": {
      "needs_background": "light"
     },
     "output_type": "display_data"
    }
   ],
   "source": [
    "ax = sns.countplot(x = 'MMSE', data = df3, palette = 'YlGnBu')\n",
    "plt.title('Count of the Different Values of MMSE when CDR = 1, M/F = F, Hand = R and EDUC = 12')\n",
    "for p in ax.patches:\n",
    "   ax.annotate('{:.0f}'.format(p.get_height()), (p.get_x() + 0.35, p.get_height() + 0.02))\n",
    "plt.show()"
   ]
  },
  {
   "cell_type": "code",
   "execution_count": 132,
   "metadata": {
    "colab": {
     "base_uri": "https://localhost:8080/"
    },
    "id": "4XWPBkJpyKsj",
    "outputId": "2196d5b8-a51d-4e58-f6f4-6475ef1b4df7"
   },
   "outputs": [
    {
     "data": {
      "image/png": "[encoded data removed]",
      "text/plain": [
       "<Figure size 792x360 with 1 Axes>"
      ]
     },
     "metadata": {
      "needs_background": "light"
     },
     "output_type": "display_data"
    }
   ],
   "source": [
    "plt.figure(figsize = (11,5))\n",
    "ax = sns.countplot(x = 'MMSE', data = df, palette = 'YlGnBu')\n",
    "plt.title('Count of the Different Values of MMSE')\n",
    "for p in ax.patches:\n",
    "   ax.annotate('{:.0f}'.format(p.get_height()), (p.get_x() + 0.2, p.get_height() + 0.9))\n",
    "plt.show()"
   ]
  },
  {
   "cell_type": "code",
   "execution_count": 133,
   "metadata": {
    "id": "4UusNrVr0Gp5"
   },
   "outputs": [],
   "source": [
    "# Creating a function for imputing the missing MMSE values\n",
    "def addMMSE(cols):\n",
    "    MMSE = cols[0]    \n",
    "    if pd.isnull(MMSE):\n",
    "      y = random.randint(1, 6)\n",
    "      if y < 3:\n",
    "        return 16.0\n",
    "      elif y < 5:\n",
    "        return 27.0\n",
    "      elif y == 5:\n",
    "        return 18.0 \n",
    "      else:\n",
    "        return 19.0\n",
    "    else:\n",
    "        return MMSE"
   ]
  },
  {
   "cell_type": "code",
   "execution_count": 134,
   "metadata": {
    "id": "wtv_2F5I5d9O"
   },
   "outputs": [],
   "source": [
    "# Imputing missing MMSE values in the dataset\n",
    "df['MMSE'] = df[['MMSE']].apply(addMMSE, axis = 1)"
   ]
  },
  {
   "cell_type": "code",
   "execution_count": 135,
   "metadata": {
    "colab": {
     "base_uri": "https://localhost:8080/"
    },
    "id": "RDBDf8Fpkd46",
    "outputId": "abeb1eb6-e634-47e9-ac6d-bd7912895832"
   },
   "outputs": [
    {
     "name": "stdout",
     "output_type": "stream",
     "text": [
      "<class 'pandas.core.frame.DataFrame'>\n",
      "RangeIndex: 373 entries, 0 to 372\n",
      "Data columns (total 15 columns):\n",
      " #   Column      Non-Null Count  Dtype  \n",
      "---  ------      --------------  -----  \n",
      " 0   Subject ID  373 non-null    object \n",
      " 1   MRI ID      373 non-null    object \n",
      " 2   Group       373 non-null    object \n",
      " 3   Visit       373 non-null    int64  \n",
      " 4   MR Delay    373 non-null    int64  \n",
      " 5   M/F         373 non-null    object \n",
      " 6   Hand        373 non-null    object \n",
      " 7   Age         373 non-null    int64  \n",
      " 8   EDUC        373 non-null    int64  \n",
      " 9   SES         373 non-null    float64\n",
      " 10  MMSE        373 non-null    float64\n",
      " 11  CDR         373 non-null    float64\n",
      " 12  eTIV        373 non-null    int64  \n",
      " 13  nWBV        373 non-null    float64\n",
      " 14  ASF         373 non-null    float64\n",
      "dtypes: float64(5), int64(5), object(5)\n",
      "memory usage: 43.8+ KB\n"
     ]
    }
   ],
   "source": [
    "# Checking whether imputation has been done properly and no other null values have been missed out\n",
    "df.info()"
   ]
  },
  {
   "cell_type": "code",
   "execution_count": 136,
   "metadata": {
    "colab": {
     "base_uri": "https://localhost:8080/"
    },
    "id": "HsEJMy52knL6",
    "outputId": "30397e34-5421-47b3-fee9-bb0df0a7ab75"
   },
   "outputs": [
    {
     "data": {
      "image/png": "[encoded data removed]",
      "text/plain": [
       "<Figure size 432x288 with 1 Axes>"
      ]
     },
     "metadata": {
      "needs_background": "light"
     },
     "output_type": "display_data"
    }
   ],
   "source": [
    "# Clinical Dementia Rating (CDR): 0 = no dementia, 0.5 = very mild AD, 1 = mild AD, 2 = moderate AD \n",
    "# (Source:https://direct.mit.edu/jocn/article/22/12/2677/4983/Open-Access-Series-of-Imaging-Studies-Longitudinal)\n",
    "ax = sns.countplot(x = 'CDR', data = df, palette = 'YlGnBu')\n",
    "plt.title('Count of the Different Values of CDR')\n",
    "for p in ax.patches:\n",
    "   ax.annotate('{:.0f}'.format(p.get_height()), (p.get_x() + 0.3, p.get_height() + 1.2))\n",
    "plt.show()"
   ]
  },
  {
   "cell_type": "code",
   "execution_count": 137,
   "metadata": {},
   "outputs": [
    {
     "data": {
      "image/png": "[encoded data removed]",
      "text/plain": [
       "<Figure size 432x288 with 1 Axes>"
      ]
     },
     "metadata": {
      "needs_background": "light"
     },
     "output_type": "display_data"
    }
   ],
   "source": [
    "# \"Every case of Alzheimer's disease is an example of dementia, but not every type of dementia is Alzheimer's.\" \n",
    "# (Source: https://alzheimer.ca/en/about-dementia/what-alzheimers-disease/difference-between-alzheimers-disease-other-dementias)\n",
    "ax = sns.countplot(x = 'CDR', data = df[(df['Group'] == 'Demented')], palette = 'YlGnBu')\n",
    "plt.title('Count of the Different Values of CDR for Demented Patients')\n",
    "for p in ax.patches:\n",
    "   ax.annotate('{:.0f}'.format(p.get_height()), (p.get_x() + 0.3, p.get_height() + 1.2))\n",
    "plt.show()"
   ]
  },
  {
   "cell_type": "code",
   "execution_count": 138,
   "metadata": {
    "id": "reNNhiVpqaF4"
   },
   "outputs": [
    {
     "data": {
      "text/plain": [
       "Index(['Visit', 'MR Delay', 'Age', 'EDUC', 'SES', 'MMSE', 'CDR', 'eTIV',\n",
       "       'nWBV', 'ASF'],\n",
       "      dtype='object')"
      ]
     },
     "execution_count": 138,
     "metadata": {},
     "output_type": "execute_result"
    }
   ],
   "source": [
    "# Creating a dataframe with only the numerical attributes\n",
    "num_df = df.select_dtypes(exclude = ['object'])\n",
    "num_df.columns"
   ]
  },
  {
   "cell_type": "code",
   "execution_count": 139,
   "metadata": {
    "colab": {
     "base_uri": "https://localhost:8080/",
     "height": 363
    },
    "id": "ErYKBfWCr3CY",
    "outputId": "a5558546-8858-4615-841f-694b69f8e80a"
   },
   "outputs": [
    {
     "data": {
      "text/plain": [
       "<AxesSubplot:>"
      ]
     },
     "execution_count": 139,
     "metadata": {},
     "output_type": "execute_result"
    },
    {
     "data": {
      "image/png": "[encoded data removed]",
      "text/plain": [
       "<Figure size 432x288 with 2 Axes>"
      ]
     },
     "metadata": {
      "needs_background": "light"
     },
     "output_type": "display_data"
    }
   ],
   "source": [
    "# Finding the correlation between the numerical attributes present in the dataset\n",
    "sns.heatmap(num_df.corr(), annot = True, cmap = 'YlGnBu', vmin = -1, vmax = 1)"
   ]
  },
  {
   "cell_type": "code",
   "execution_count": 140,
   "metadata": {},
   "outputs": [
    {
     "data": {
      "image/png": "[encoded data removed]",
      "text/plain": [
       "<Figure size 792x360 with 1 Axes>"
      ]
     },
     "metadata": {
      "needs_background": "light"
     },
     "output_type": "display_data"
    }
   ],
   "source": [
    "# MMSE values range from 0 = worst to 30 = best\n",
    "plt.figure(figsize = (11,5))\n",
    "ax = sns.countplot(x = 'MMSE', data = df[(df['Group'] == 'Demented') & (df['CDR'] >= 0.5)], palette = 'YlGnBu')\n",
    "plt.title('Count of the Different Values of MMSE for Demented Patients with CDR >= 0.5')\n",
    "for p in ax.patches:\n",
    "   ax.annotate('{:.0f}'.format(p.get_height()), (p.get_x() + 0.2, p.get_height() + 0.1))\n",
    "plt.show()"
   ]
  },
  {
   "cell_type": "code",
   "execution_count": 141,
   "metadata": {
    "id": "Wc_6f_xxsCcE"
   },
   "outputs": [
    {
     "data": {
      "text/plain": [
       "Index(['Subject ID', 'MRI ID', 'Group', 'M/F', 'Hand'], dtype='object')"
      ]
     },
     "execution_count": 141,
     "metadata": {},
     "output_type": "execute_result"
    }
   ],
   "source": [
    "# Creating a dataframe with only the categorical attributes\n",
    "cat_df = df.select_dtypes(include = ['object'])\n",
    "cat_df.columns"
   ]
  },
  {
   "cell_type": "code",
   "execution_count": 142,
   "metadata": {
    "id": "B16Q-8k_tTui"
   },
   "outputs": [],
   "source": [
    "# Dropping the irrelevant categorical attributes\n",
    "df = df.drop(['Subject ID', 'MRI ID', 'Hand'], axis = 1)\n",
    "cat_df = cat_df.drop(['Subject ID', 'MRI ID', 'Hand'], axis = 1)"
   ]
  },
  {
   "cell_type": "code",
   "execution_count": 143,
   "metadata": {
    "id": "guAbfYgasUSp"
   },
   "outputs": [],
   "source": [
    "# Using label encoder to encode Gender\n",
    "ls = LabelEncoder()\n",
    "encoded = ls.fit(df['M/F'])\n",
    "fin_encoded = ls.transform(df['M/F'])\n",
    "df['M/F'] = fin_encoded\n",
    "cat_df['M/F'] = fin_encoded"
   ]
  },
  {
   "cell_type": "code",
   "execution_count": 144,
   "metadata": {},
   "outputs": [
    {
     "name": "stdout",
     "output_type": "stream",
     "text": [
      "PointbiserialrResult(correlation=0.20213994473494853, pvalue=8.440795727599894e-05)\n"
     ]
    }
   ],
   "source": [
    "# Using point biserial correlation to find the relationship between CDR and Gender\n",
    "print(stats.pointbiserialr(cat_df['M/F'], num_df['CDR']))\n",
    "# Since p-value > 0.05, therefore, the relationship between CDR and Gender is not significant"
   ]
  },
  {
   "cell_type": "code",
   "execution_count": 145,
   "metadata": {},
   "outputs": [],
   "source": [
    "# From the above analysis, we can observe that no other attribute is significantly related to CDR in order to help us\n",
    "# find whether the patient has Alzheimer's Disease. Hence, we can classify whether a person has Alzheimer's\n",
    "# Disease or not as:"
   ]
  },
  {
   "cell_type": "code",
   "execution_count": 146,
   "metadata": {},
   "outputs": [],
   "source": [
    "def conditions(cols):\n",
    "    Group = cols[0]\n",
    "    CDR = cols[1]\n",
    "    if Group == 'Demented':\n",
    "        if CDR == 0.5:\n",
    "            return 'Very Mild AD'\n",
    "        elif CDR == 1.0:\n",
    "            return 'Mild AD'\n",
    "        else:\n",
    "            return 'Moderate AD'\n",
    "    else:\n",
    "        return 'No AD'"
   ]
  },
  {
   "cell_type": "code",
   "execution_count": 147,
   "metadata": {},
   "outputs": [],
   "source": [
    "df4 = df.copy()\n",
    "df4['Alzheimers'] = df4[['Group','CDR']].apply(conditions, axis = 1)"
   ]
  },
  {
   "cell_type": "code",
   "execution_count": 148,
   "metadata": {},
   "outputs": [
    {
     "data": {
      "image/png": "[encoded data removed]",
      "text/plain": [
       "<Figure size 432x288 with 1 Axes>"
      ]
     },
     "metadata": {
      "needs_background": "light"
     },
     "output_type": "display_data"
    }
   ],
   "source": [
    "ax = sns.countplot(x = 'Alzheimers', data = df4, palette = 'YlGnBu')\n",
    "plt.title('Count of the Different Values of Alzheimers')\n",
    "for p in ax.patches:\n",
    "   ax.annotate('{:.0f}'.format(p.get_height()), (p.get_x() + 0.3, p.get_height() + 1.2))\n",
    "plt.show()"
   ]
  },
  {
   "cell_type": "code",
   "execution_count": 149,
   "metadata": {},
   "outputs": [],
   "source": [
    "# Label Encoding the other categorical variables\n",
    "encoded = ls.fit(df['Group'])\n",
    "fin_encoded = ls.transform(df['Group'])\n",
    "df['Group'] = fin_encoded\n",
    "cat_df['Group'] = fin_encoded"
   ]
  },
  {
   "cell_type": "code",
   "execution_count": 150,
   "metadata": {
    "id": "vqHII_U5-ZfQ"
   },
   "outputs": [],
   "source": [
    "# Creating function to detect outliers\n",
    "# Only the attributes which contain multiple outliers are returned by the function\n",
    "def detect_outliers(df2,features):\n",
    "    outlier_indices = []\n",
    "    \n",
    "    for c in features:\n",
    "        # 1st quartile\n",
    "        Q1 = np.percentile(df2[c],25)\n",
    "        # 3rd quartile\n",
    "        Q3 = np.percentile(df2[c],75)\n",
    "        # IQR\n",
    "        IQR = Q3 - Q1\n",
    "        # Outlier step\n",
    "        outlier_step = IQR * 1.5\n",
    "\n",
    "        # Detecting outliers and their indices\n",
    "        outlier_list_col = df2[(df2[c] < Q1 - outlier_step) | (df2[c] > Q3 + outlier_step)].index\n",
    "        # Storing the indices\n",
    "        outlier_indices.extend(outlier_list_col)\n",
    "    \n",
    "    outlier_indices = Counter(outlier_indices)\n",
    "    multiple_outliers = list(i for i, v in outlier_indices.items() if v > 2)\n",
    "    \n",
    "    return multiple_outliers"
   ]
  },
  {
   "cell_type": "code",
   "execution_count": 151,
   "metadata": {
    "colab": {
     "base_uri": "https://localhost:8080/"
    },
    "id": "p4Dv_so4-yM0",
    "outputId": "7a72f584-0f44-47f4-e34e-09ba7124b5c2"
   },
   "outputs": [
    {
     "name": "stdout",
     "output_type": "stream",
     "text": [
      "[]\n"
     ]
    }
   ],
   "source": [
    "# Calling the above function in order to detect outliers in the dataset\n",
    "L = detect_outliers(num_df,num_df.columns)\n",
    "print(L)"
   ]
  },
  {
   "cell_type": "code",
   "execution_count": 152,
   "metadata": {},
   "outputs": [
    {
     "data": {
      "text/html": [
       "<div>\n",
       "<style scoped>\n",
       "    .dataframe tbody tr th:only-of-type {\n",
       "        vertical-align: middle;\n",
       "    }\n",
       "\n",
       "    .dataframe tbody tr th {\n",
       "        vertical-align: top;\n",
       "    }\n",
       "\n",
       "    .dataframe thead th {\n",
       "        text-align: right;\n",
       "    }\n",
       "</style>\n",
       "<table border=\"1\" class=\"dataframe\">\n",
       "  <thead>\n",
       "    <tr style=\"text-align: right;\">\n",
       "      <th></th>\n",
       "      <th>Group</th>\n",
       "      <th>Visit</th>\n",
       "      <th>MR Delay</th>\n",
       "      <th>M/F</th>\n",
       "      <th>Age</th>\n",
       "      <th>EDUC</th>\n",
       "      <th>SES</th>\n",
       "      <th>MMSE</th>\n",
       "      <th>CDR</th>\n",
       "      <th>eTIV</th>\n",
       "      <th>nWBV</th>\n",
       "      <th>ASF</th>\n",
       "    </tr>\n",
       "  </thead>\n",
       "  <tbody>\n",
       "    <tr>\n",
       "      <th>0</th>\n",
       "      <td>2</td>\n",
       "      <td>1</td>\n",
       "      <td>0</td>\n",
       "      <td>1</td>\n",
       "      <td>87</td>\n",
       "      <td>14</td>\n",
       "      <td>2.0</td>\n",
       "      <td>27.0</td>\n",
       "      <td>0.0</td>\n",
       "      <td>1987</td>\n",
       "      <td>0.696</td>\n",
       "      <td>0.883</td>\n",
       "    </tr>\n",
       "    <tr>\n",
       "      <th>1</th>\n",
       "      <td>2</td>\n",
       "      <td>2</td>\n",
       "      <td>457</td>\n",
       "      <td>1</td>\n",
       "      <td>88</td>\n",
       "      <td>14</td>\n",
       "      <td>2.0</td>\n",
       "      <td>30.0</td>\n",
       "      <td>0.0</td>\n",
       "      <td>2004</td>\n",
       "      <td>0.681</td>\n",
       "      <td>0.876</td>\n",
       "    </tr>\n",
       "    <tr>\n",
       "      <th>2</th>\n",
       "      <td>1</td>\n",
       "      <td>1</td>\n",
       "      <td>0</td>\n",
       "      <td>1</td>\n",
       "      <td>75</td>\n",
       "      <td>12</td>\n",
       "      <td>4.0</td>\n",
       "      <td>23.0</td>\n",
       "      <td>0.5</td>\n",
       "      <td>1678</td>\n",
       "      <td>0.736</td>\n",
       "      <td>1.046</td>\n",
       "    </tr>\n",
       "    <tr>\n",
       "      <th>3</th>\n",
       "      <td>1</td>\n",
       "      <td>2</td>\n",
       "      <td>560</td>\n",
       "      <td>1</td>\n",
       "      <td>76</td>\n",
       "      <td>12</td>\n",
       "      <td>4.0</td>\n",
       "      <td>28.0</td>\n",
       "      <td>0.5</td>\n",
       "      <td>1738</td>\n",
       "      <td>0.713</td>\n",
       "      <td>1.010</td>\n",
       "    </tr>\n",
       "    <tr>\n",
       "      <th>4</th>\n",
       "      <td>1</td>\n",
       "      <td>3</td>\n",
       "      <td>1895</td>\n",
       "      <td>1</td>\n",
       "      <td>80</td>\n",
       "      <td>12</td>\n",
       "      <td>4.0</td>\n",
       "      <td>22.0</td>\n",
       "      <td>0.5</td>\n",
       "      <td>1698</td>\n",
       "      <td>0.701</td>\n",
       "      <td>1.034</td>\n",
       "    </tr>\n",
       "    <tr>\n",
       "      <th>...</th>\n",
       "      <td>...</td>\n",
       "      <td>...</td>\n",
       "      <td>...</td>\n",
       "      <td>...</td>\n",
       "      <td>...</td>\n",
       "      <td>...</td>\n",
       "      <td>...</td>\n",
       "      <td>...</td>\n",
       "      <td>...</td>\n",
       "      <td>...</td>\n",
       "      <td>...</td>\n",
       "      <td>...</td>\n",
       "    </tr>\n",
       "    <tr>\n",
       "      <th>368</th>\n",
       "      <td>1</td>\n",
       "      <td>2</td>\n",
       "      <td>842</td>\n",
       "      <td>1</td>\n",
       "      <td>82</td>\n",
       "      <td>16</td>\n",
       "      <td>1.0</td>\n",
       "      <td>28.0</td>\n",
       "      <td>0.5</td>\n",
       "      <td>1693</td>\n",
       "      <td>0.694</td>\n",
       "      <td>1.037</td>\n",
       "    </tr>\n",
       "    <tr>\n",
       "      <th>369</th>\n",
       "      <td>1</td>\n",
       "      <td>3</td>\n",
       "      <td>2297</td>\n",
       "      <td>1</td>\n",
       "      <td>86</td>\n",
       "      <td>16</td>\n",
       "      <td>1.0</td>\n",
       "      <td>26.0</td>\n",
       "      <td>0.5</td>\n",
       "      <td>1688</td>\n",
       "      <td>0.675</td>\n",
       "      <td>1.040</td>\n",
       "    </tr>\n",
       "    <tr>\n",
       "      <th>370</th>\n",
       "      <td>2</td>\n",
       "      <td>1</td>\n",
       "      <td>0</td>\n",
       "      <td>0</td>\n",
       "      <td>61</td>\n",
       "      <td>13</td>\n",
       "      <td>2.0</td>\n",
       "      <td>30.0</td>\n",
       "      <td>0.0</td>\n",
       "      <td>1319</td>\n",
       "      <td>0.801</td>\n",
       "      <td>1.331</td>\n",
       "    </tr>\n",
       "    <tr>\n",
       "      <th>371</th>\n",
       "      <td>2</td>\n",
       "      <td>2</td>\n",
       "      <td>763</td>\n",
       "      <td>0</td>\n",
       "      <td>63</td>\n",
       "      <td>13</td>\n",
       "      <td>2.0</td>\n",
       "      <td>30.0</td>\n",
       "      <td>0.0</td>\n",
       "      <td>1327</td>\n",
       "      <td>0.796</td>\n",
       "      <td>1.323</td>\n",
       "    </tr>\n",
       "    <tr>\n",
       "      <th>372</th>\n",
       "      <td>2</td>\n",
       "      <td>3</td>\n",
       "      <td>1608</td>\n",
       "      <td>0</td>\n",
       "      <td>65</td>\n",
       "      <td>13</td>\n",
       "      <td>2.0</td>\n",
       "      <td>30.0</td>\n",
       "      <td>0.0</td>\n",
       "      <td>1333</td>\n",
       "      <td>0.801</td>\n",
       "      <td>1.317</td>\n",
       "    </tr>\n",
       "  </tbody>\n",
       "</table>\n",
       "<p>373 rows × 12 columns</p>\n",
       "</div>"
      ],
      "text/plain": [
       "     Group  Visit  MR Delay  M/F  Age  EDUC  SES  MMSE  CDR  eTIV   nWBV  \\\n",
       "0        2      1         0    1   87    14  2.0  27.0  0.0  1987  0.696   \n",
       "1        2      2       457    1   88    14  2.0  30.0  0.0  2004  0.681   \n",
       "2        1      1         0    1   75    12  4.0  23.0  0.5  1678  0.736   \n",
       "3        1      2       560    1   76    12  4.0  28.0  0.5  1738  0.713   \n",
       "4        1      3      1895    1   80    12  4.0  22.0  0.5  1698  0.701   \n",
       "..     ...    ...       ...  ...  ...   ...  ...   ...  ...   ...    ...   \n",
       "368      1      2       842    1   82    16  1.0  28.0  0.5  1693  0.694   \n",
       "369      1      3      2297    1   86    16  1.0  26.0  0.5  1688  0.675   \n",
       "370      2      1         0    0   61    13  2.0  30.0  0.0  1319  0.801   \n",
       "371      2      2       763    0   63    13  2.0  30.0  0.0  1327  0.796   \n",
       "372      2      3      1608    0   65    13  2.0  30.0  0.0  1333  0.801   \n",
       "\n",
       "       ASF  \n",
       "0    0.883  \n",
       "1    0.876  \n",
       "2    1.046  \n",
       "3    1.010  \n",
       "4    1.034  \n",
       "..     ...  \n",
       "368  1.037  \n",
       "369  1.040  \n",
       "370  1.331  \n",
       "371  1.323  \n",
       "372  1.317  \n",
       "\n",
       "[373 rows x 12 columns]"
      ]
     },
     "execution_count": 152,
     "metadata": {},
     "output_type": "execute_result"
    }
   ],
   "source": [
    "# Displaying dataset after missing value imputation, label encoding the categorical attributes and outlier analysis \n",
    "df"
   ]
  },
  {
   "cell_type": "code",
   "execution_count": 153,
   "metadata": {
    "id": "ZOqamHX3-4kj"
   },
   "outputs": [],
   "source": [
    "# Splitting the dataset attributes into target attributes (i.e. y) and predictor attributes (x)\n",
    "y = df['Group']\n",
    "X = df.drop(['Group'], axis = 1)"
   ]
  },
  {
   "cell_type": "code",
   "execution_count": 154,
   "metadata": {
    "colab": {
     "base_uri": "https://localhost:8080/"
    },
    "id": "SNyUtFlHkaQi",
    "outputId": "e2d6f185-3c84-4326-99f7-eb6ec03696f9"
   },
   "outputs": [
    {
     "data": {
      "image/png": "[encoded data removed]",
      "text/plain": [
       "<Figure size 432x288 with 1 Axes>"
      ]
     },
     "metadata": {
      "needs_background": "light"
     },
     "output_type": "display_data"
    }
   ],
   "source": [
    "ax = sns.countplot(x = 'Group', data = df, palette = 'YlGnBu')\n",
    "plt.title('Count of the Different Values of Group')\n",
    "for p in ax.patches:\n",
    "   ax.annotate('{:.0f}'.format(p.get_height()), (p.get_x() + 0.35, p.get_height() + 1.5))\n",
    "plt.show()"
   ]
  },
  {
   "cell_type": "code",
   "execution_count": 155,
   "metadata": {
    "id": "MNMM0oWTBH7M"
   },
   "outputs": [],
   "source": [
    "# Stratified train-test split for predicting dementia (i.e. y)\n",
    "X_train, X_test, y_train, y_test = train_test_split(X, y, test_size = 0.25, random_state = 56, stratify = y)"
   ]
  },
  {
   "cell_type": "code",
   "execution_count": 156,
   "metadata": {
    "id": "VCwLNUzPBNCw"
   },
   "outputs": [],
   "source": [
    "# Scaling the input/predictor attributes using robust scaler\n",
    "rs = RobustScaler()\n",
    "rs.fit(X_train)\n",
    "\n",
    "X_train = rs.transform(X_train)\n",
    "X_test = rs.transform(X_test)"
   ]
  },
  {
   "cell_type": "markdown",
   "metadata": {},
   "source": [
    "# Deep Learning\n",
    "\n",
    "The following section contains the implementation of Deep Learning using a Sequential model and an MLP Classifier."
   ]
  },
  {
   "cell_type": "markdown",
   "metadata": {},
   "source": [
    "## Sequential Model"
   ]
  },
  {
   "cell_type": "code",
   "execution_count": 174,
   "metadata": {},
   "outputs": [],
   "source": [
    "import tensorflow as tf\n",
    "import numpy as np\n",
    "from tensorflow.keras.models import Sequential\n",
    "from tensorflow.keras.layers import Flatten\n",
    "from tensorflow.keras.layers import Dense\n",
    "from tensorflow.keras.layers import Activation\n",
    "from tensorflow.keras import layers\n",
    "import matplotlib.pyplot as pt"
   ]
  },
  {
   "cell_type": "code",
   "execution_count": 175,
   "metadata": {},
   "outputs": [
    {
     "name": "stdout",
     "output_type": "stream",
     "text": [
      "Feature matrix: (279, 11)\n",
      "Target matrix: (94, 11)\n",
      "Feature matrix: (279,)\n",
      "Target matrix: (94,)\n"
     ]
    }
   ],
   "source": [
    "print(\"Feature matrix:\", X_train.shape)\n",
    "print(\"Target matrix:\", X_test.shape)\n",
    "print(\"Feature matrix:\", y_train.shape)\n",
    "print(\"Target matrix:\", y_test.shape)"
   ]
  },
  {
   "cell_type": "code",
   "execution_count": 176,
   "metadata": {},
   "outputs": [],
   "source": [
    "model = tf.keras.Sequential([\n",
    "    tf.keras.layers.Dense(64, activation='relu', input_shape=(11,)),\n",
    "    tf.keras.layers.Dense(64, activation='relu'),\n",
    "    tf.keras.layers.Dense(32, activation='relu'),\n",
    "    tf.keras.layers.Dense(16, activation='relu'),\n",
    "    tf.keras.layers.Dense(8, activation='relu'),\n",
    "    tf.keras.layers.Dense(3, activation='softmax')\n",
    "])"
   ]
  },
  {
   "cell_type": "code",
   "execution_count": 177,
   "metadata": {},
   "outputs": [],
   "source": [
    "model.compile(optimizer='adam',\n",
    "      loss='sparse_categorical_crossentropy',\n",
    "      metrics=['accuracy'])"
   ]
  },
  {
   "cell_type": "code",
   "execution_count": 178,
   "metadata": {},
   "outputs": [
    {
     "name": "stdout",
     "output_type": "stream",
     "text": [
      "Epoch 1/100\n",
      "6/6 [==============================] - 1s 31ms/step - loss: 1.0877 - accuracy: 0.5591 - val_loss: 1.0690 - val_accuracy: 0.6915\n",
      "Epoch 2/100\n",
      "6/6 [==============================] - 0s 6ms/step - loss: 1.0562 - accuracy: 0.6738 - val_loss: 1.0366 - val_accuracy: 0.6489\n",
      "Epoch 3/100\n",
      "6/6 [==============================] - 0s 6ms/step - loss: 1.0167 - accuracy: 0.6989 - val_loss: 0.9915 - val_accuracy: 0.6596\n",
      "Epoch 4/100\n",
      "6/6 [==============================] - 0s 6ms/step - loss: 0.9621 - accuracy: 0.7204 - val_loss: 0.9313 - val_accuracy: 0.7128\n",
      "Epoch 5/100\n",
      "6/6 [==============================] - 0s 5ms/step - loss: 0.8908 - accuracy: 0.7563 - val_loss: 0.8578 - val_accuracy: 0.7128\n",
      "Epoch 6/100\n",
      "6/6 [==============================] - 0s 5ms/step - loss: 0.8100 - accuracy: 0.7742 - val_loss: 0.7717 - val_accuracy: 0.7447\n",
      "Epoch 7/100\n",
      "6/6 [==============================] - 0s 5ms/step - loss: 0.7144 - accuracy: 0.8065 - val_loss: 0.6693 - val_accuracy: 0.7872\n",
      "Epoch 8/100\n",
      "6/6 [==============================] - 0s 5ms/step - loss: 0.6092 - accuracy: 0.8459 - val_loss: 0.5656 - val_accuracy: 0.8511\n",
      "Epoch 9/100\n",
      "6/6 [==============================] - 0s 5ms/step - loss: 0.5181 - accuracy: 0.8746 - val_loss: 0.4686 - val_accuracy: 0.8723\n",
      "Epoch 10/100\n",
      "6/6 [==============================] - 0s 5ms/step - loss: 0.4443 - accuracy: 0.8781 - val_loss: 0.3975 - val_accuracy: 0.8830\n",
      "Epoch 11/100\n",
      "6/6 [==============================] - 0s 5ms/step - loss: 0.4001 - accuracy: 0.8817 - val_loss: 0.3614 - val_accuracy: 0.8830\n",
      "Epoch 12/100\n",
      "6/6 [==============================] - 0s 5ms/step - loss: 0.3759 - accuracy: 0.8853 - val_loss: 0.3484 - val_accuracy: 0.8830\n",
      "Epoch 13/100\n",
      "6/6 [==============================] - 0s 7ms/step - loss: 0.3481 - accuracy: 0.8889 - val_loss: 0.3361 - val_accuracy: 0.8936\n",
      "Epoch 14/100\n",
      "6/6 [==============================] - 0s 5ms/step - loss: 0.3369 - accuracy: 0.8925 - val_loss: 0.3150 - val_accuracy: 0.9043\n",
      "Epoch 15/100\n",
      "6/6 [==============================] - 0s 5ms/step - loss: 0.3195 - accuracy: 0.8925 - val_loss: 0.3072 - val_accuracy: 0.9043\n",
      "Epoch 16/100\n",
      "6/6 [==============================] - 0s 5ms/step - loss: 0.3086 - accuracy: 0.8925 - val_loss: 0.2909 - val_accuracy: 0.9043\n",
      "Epoch 17/100\n",
      "6/6 [==============================] - 0s 5ms/step - loss: 0.2971 - accuracy: 0.8961 - val_loss: 0.2865 - val_accuracy: 0.9043\n",
      "Epoch 18/100\n",
      "6/6 [==============================] - 0s 5ms/step - loss: 0.2908 - accuracy: 0.8961 - val_loss: 0.2903 - val_accuracy: 0.8936\n",
      "Epoch 19/100\n",
      "6/6 [==============================] - 0s 5ms/step - loss: 0.2773 - accuracy: 0.8961 - val_loss: 0.2856 - val_accuracy: 0.9043\n",
      "Epoch 20/100\n",
      "6/6 [==============================] - 0s 5ms/step - loss: 0.2687 - accuracy: 0.8961 - val_loss: 0.2848 - val_accuracy: 0.8936\n",
      "Epoch 21/100\n",
      "6/6 [==============================] - 0s 5ms/step - loss: 0.2604 - accuracy: 0.8961 - val_loss: 0.2755 - val_accuracy: 0.8936\n",
      "Epoch 22/100\n",
      "6/6 [==============================] - 0s 5ms/step - loss: 0.2557 - accuracy: 0.8961 - val_loss: 0.2680 - val_accuracy: 0.9043\n",
      "Epoch 23/100\n",
      "6/6 [==============================] - 0s 5ms/step - loss: 0.2459 - accuracy: 0.8961 - val_loss: 0.2723 - val_accuracy: 0.9043\n",
      "Epoch 24/100\n",
      "6/6 [==============================] - 0s 5ms/step - loss: 0.2413 - accuracy: 0.8996 - val_loss: 0.2845 - val_accuracy: 0.8936\n",
      "Epoch 25/100\n",
      "6/6 [==============================] - 0s 5ms/step - loss: 0.2336 - accuracy: 0.8996 - val_loss: 0.2629 - val_accuracy: 0.8936\n",
      "Epoch 26/100\n",
      "6/6 [==============================] - 0s 5ms/step - loss: 0.2275 - accuracy: 0.8996 - val_loss: 0.2555 - val_accuracy: 0.9043\n",
      "Epoch 27/100\n",
      "6/6 [==============================] - 0s 5ms/step - loss: 0.2229 - accuracy: 0.9032 - val_loss: 0.2635 - val_accuracy: 0.8936\n",
      "Epoch 28/100\n",
      "6/6 [==============================] - 0s 5ms/step - loss: 0.2095 - accuracy: 0.9068 - val_loss: 0.2495 - val_accuracy: 0.9043\n",
      "Epoch 29/100\n",
      "6/6 [==============================] - 0s 5ms/step - loss: 0.2096 - accuracy: 0.9140 - val_loss: 0.2484 - val_accuracy: 0.9043\n",
      "Epoch 30/100\n",
      "6/6 [==============================] - 0s 4ms/step - loss: 0.1963 - accuracy: 0.9068 - val_loss: 0.2483 - val_accuracy: 0.9043\n",
      "Epoch 31/100\n",
      "6/6 [==============================] - 0s 5ms/step - loss: 0.1893 - accuracy: 0.9140 - val_loss: 0.2443 - val_accuracy: 0.9043\n",
      "Epoch 32/100\n",
      "6/6 [==============================] - 0s 5ms/step - loss: 0.1857 - accuracy: 0.9247 - val_loss: 0.2382 - val_accuracy: 0.9255\n",
      "Epoch 33/100\n",
      "6/6 [==============================] - 0s 5ms/step - loss: 0.1792 - accuracy: 0.9283 - val_loss: 0.2446 - val_accuracy: 0.9149\n",
      "Epoch 34/100\n",
      "6/6 [==============================] - 0s 5ms/step - loss: 0.1722 - accuracy: 0.9355 - val_loss: 0.2262 - val_accuracy: 0.9255\n",
      "Epoch 35/100\n",
      "6/6 [==============================] - 0s 5ms/step - loss: 0.1644 - accuracy: 0.9391 - val_loss: 0.2348 - val_accuracy: 0.9149\n",
      "Epoch 36/100\n",
      "6/6 [==============================] - 0s 5ms/step - loss: 0.1542 - accuracy: 0.9391 - val_loss: 0.2324 - val_accuracy: 0.9149\n",
      "Epoch 37/100\n",
      "6/6 [==============================] - 0s 5ms/step - loss: 0.1495 - accuracy: 0.9391 - val_loss: 0.2259 - val_accuracy: 0.9149\n",
      "Epoch 38/100\n",
      "6/6 [==============================] - 0s 5ms/step - loss: 0.1395 - accuracy: 0.9462 - val_loss: 0.2298 - val_accuracy: 0.9149\n",
      "Epoch 39/100\n",
      "6/6 [==============================] - 0s 4ms/step - loss: 0.1355 - accuracy: 0.9534 - val_loss: 0.2309 - val_accuracy: 0.9043\n",
      "Epoch 40/100\n",
      "6/6 [==============================] - 0s 5ms/step - loss: 0.1266 - accuracy: 0.9534 - val_loss: 0.2284 - val_accuracy: 0.9043\n",
      "Epoch 41/100\n",
      "6/6 [==============================] - 0s 5ms/step - loss: 0.1213 - accuracy: 0.9534 - val_loss: 0.2277 - val_accuracy: 0.9043\n",
      "Epoch 42/100\n",
      "6/6 [==============================] - 0s 5ms/step - loss: 0.1163 - accuracy: 0.9606 - val_loss: 0.2282 - val_accuracy: 0.9043\n",
      "Epoch 43/100\n",
      "6/6 [==============================] - 0s 5ms/step - loss: 0.1133 - accuracy: 0.9642 - val_loss: 0.2220 - val_accuracy: 0.9043\n",
      "Epoch 44/100\n",
      "6/6 [==============================] - 0s 5ms/step - loss: 0.1070 - accuracy: 0.9606 - val_loss: 0.2207 - val_accuracy: 0.9043\n",
      "Epoch 45/100\n",
      "6/6 [==============================] - 0s 4ms/step - loss: 0.0980 - accuracy: 0.9570 - val_loss: 0.2408 - val_accuracy: 0.8936\n",
      "Epoch 46/100\n",
      "6/6 [==============================] - 0s 5ms/step - loss: 0.0979 - accuracy: 0.9785 - val_loss: 0.2249 - val_accuracy: 0.9043\n",
      "Epoch 47/100\n",
      "6/6 [==============================] - 0s 5ms/step - loss: 0.0894 - accuracy: 0.9677 - val_loss: 0.2245 - val_accuracy: 0.9043\n",
      "Epoch 48/100\n",
      "6/6 [==============================] - 0s 4ms/step - loss: 0.0889 - accuracy: 0.9606 - val_loss: 0.2399 - val_accuracy: 0.8936\n",
      "Epoch 49/100\n",
      "6/6 [==============================] - 0s 5ms/step - loss: 0.0844 - accuracy: 0.9785 - val_loss: 0.2292 - val_accuracy: 0.9149\n",
      "Epoch 50/100\n",
      "6/6 [==============================] - 0s 4ms/step - loss: 0.0829 - accuracy: 0.9821 - val_loss: 0.2313 - val_accuracy: 0.9043\n",
      "Epoch 51/100\n",
      "6/6 [==============================] - 0s 5ms/step - loss: 0.0750 - accuracy: 0.9713 - val_loss: 0.2275 - val_accuracy: 0.9043\n",
      "Epoch 52/100\n",
      "6/6 [==============================] - 0s 5ms/step - loss: 0.0704 - accuracy: 0.9785 - val_loss: 0.2366 - val_accuracy: 0.8830\n",
      "Epoch 53/100\n",
      "6/6 [==============================] - 0s 4ms/step - loss: 0.0693 - accuracy: 0.9892 - val_loss: 0.2282 - val_accuracy: 0.9043\n",
      "Epoch 54/100\n",
      "6/6 [==============================] - 0s 5ms/step - loss: 0.0662 - accuracy: 0.9821 - val_loss: 0.2361 - val_accuracy: 0.9043\n",
      "Epoch 55/100\n",
      "6/6 [==============================] - 0s 5ms/step - loss: 0.0640 - accuracy: 0.9821 - val_loss: 0.2358 - val_accuracy: 0.9043\n",
      "Epoch 56/100\n",
      "6/6 [==============================] - 0s 5ms/step - loss: 0.0621 - accuracy: 0.9749 - val_loss: 0.2287 - val_accuracy: 0.9255\n",
      "Epoch 57/100\n",
      "6/6 [==============================] - 0s 5ms/step - loss: 0.0554 - accuracy: 0.9857 - val_loss: 0.2589 - val_accuracy: 0.8936\n",
      "Epoch 58/100\n",
      "6/6 [==============================] - 0s 5ms/step - loss: 0.0536 - accuracy: 0.9928 - val_loss: 0.2309 - val_accuracy: 0.9255\n",
      "Epoch 59/100\n",
      "6/6 [==============================] - 0s 5ms/step - loss: 0.0633 - accuracy: 0.9713 - val_loss: 0.2454 - val_accuracy: 0.9043\n",
      "Epoch 60/100\n",
      "6/6 [==============================] - 0s 5ms/step - loss: 0.0517 - accuracy: 0.9857 - val_loss: 0.2509 - val_accuracy: 0.8936\n",
      "Epoch 61/100\n",
      "6/6 [==============================] - 0s 5ms/step - loss: 0.0441 - accuracy: 0.9892 - val_loss: 0.2406 - val_accuracy: 0.9255\n",
      "Epoch 62/100\n",
      "6/6 [==============================] - 0s 5ms/step - loss: 0.0440 - accuracy: 0.9892 - val_loss: 0.2431 - val_accuracy: 0.9043\n",
      "Epoch 63/100\n",
      "6/6 [==============================] - 0s 5ms/step - loss: 0.0425 - accuracy: 0.9964 - val_loss: 0.2451 - val_accuracy: 0.9043\n",
      "Epoch 64/100\n",
      "6/6 [==============================] - 0s 5ms/step - loss: 0.0367 - accuracy: 0.9964 - val_loss: 0.2423 - val_accuracy: 0.9255\n",
      "Epoch 65/100\n",
      "6/6 [==============================] - 0s 4ms/step - loss: 0.0358 - accuracy: 0.9928 - val_loss: 0.2434 - val_accuracy: 0.9043\n",
      "Epoch 66/100\n",
      "6/6 [==============================] - 0s 5ms/step - loss: 0.0331 - accuracy: 0.9964 - val_loss: 0.2439 - val_accuracy: 0.9043\n",
      "Epoch 67/100\n",
      "6/6 [==============================] - 0s 5ms/step - loss: 0.0318 - accuracy: 1.0000 - val_loss: 0.2479 - val_accuracy: 0.9149\n",
      "Epoch 68/100\n",
      "6/6 [==============================] - 0s 4ms/step - loss: 0.0304 - accuracy: 0.9964 - val_loss: 0.2490 - val_accuracy: 0.9043\n",
      "Epoch 69/100\n",
      "6/6 [==============================] - 0s 5ms/step - loss: 0.0287 - accuracy: 0.9964 - val_loss: 0.2500 - val_accuracy: 0.9043\n",
      "Epoch 70/100\n",
      "6/6 [==============================] - 0s 5ms/step - loss: 0.0273 - accuracy: 0.9964 - val_loss: 0.2571 - val_accuracy: 0.9043\n",
      "Epoch 71/100\n",
      "6/6 [==============================] - 0s 5ms/step - loss: 0.0256 - accuracy: 1.0000 - val_loss: 0.2561 - val_accuracy: 0.9043\n",
      "Epoch 72/100\n",
      "6/6 [==============================] - 0s 4ms/step - loss: 0.0243 - accuracy: 1.0000 - val_loss: 0.2555 - val_accuracy: 0.9043\n",
      "Epoch 73/100\n",
      "6/6 [==============================] - 0s 5ms/step - loss: 0.0230 - accuracy: 1.0000 - val_loss: 0.2575 - val_accuracy: 0.9255\n",
      "Epoch 74/100\n",
      "6/6 [==============================] - 0s 5ms/step - loss: 0.0220 - accuracy: 1.0000 - val_loss: 0.2577 - val_accuracy: 0.9043\n",
      "Epoch 75/100\n",
      "6/6 [==============================] - 0s 4ms/step - loss: 0.0202 - accuracy: 1.0000 - val_loss: 0.2610 - val_accuracy: 0.9043\n",
      "Epoch 76/100\n",
      "6/6 [==============================] - 0s 5ms/step - loss: 0.0193 - accuracy: 1.0000 - val_loss: 0.2622 - val_accuracy: 0.9043\n",
      "Epoch 77/100\n",
      "6/6 [==============================] - 0s 5ms/step - loss: 0.0185 - accuracy: 1.0000 - val_loss: 0.2680 - val_accuracy: 0.9149\n",
      "Epoch 78/100\n",
      "6/6 [==============================] - 0s 5ms/step - loss: 0.0176 - accuracy: 1.0000 - val_loss: 0.2638 - val_accuracy: 0.9149\n",
      "Epoch 79/100\n",
      "6/6 [==============================] - 0s 5ms/step - loss: 0.0179 - accuracy: 1.0000 - val_loss: 0.2660 - val_accuracy: 0.9043\n",
      "Epoch 80/100\n",
      "6/6 [==============================] - 0s 5ms/step - loss: 0.0164 - accuracy: 1.0000 - val_loss: 0.2673 - val_accuracy: 0.9255\n",
      "Epoch 81/100\n",
      "6/6 [==============================] - 0s 5ms/step - loss: 0.0157 - accuracy: 1.0000 - val_loss: 0.2721 - val_accuracy: 0.9043\n",
      "Epoch 82/100\n",
      "6/6 [==============================] - 0s 5ms/step - loss: 0.0162 - accuracy: 1.0000 - val_loss: 0.2782 - val_accuracy: 0.9149\n",
      "Epoch 83/100\n",
      "6/6 [==============================] - 0s 5ms/step - loss: 0.0146 - accuracy: 1.0000 - val_loss: 0.2728 - val_accuracy: 0.9255\n",
      "Epoch 84/100\n",
      "6/6 [==============================] - 0s 5ms/step - loss: 0.0134 - accuracy: 1.0000 - val_loss: 0.2799 - val_accuracy: 0.9043\n",
      "Epoch 85/100\n",
      "6/6 [==============================] - 0s 5ms/step - loss: 0.0126 - accuracy: 1.0000 - val_loss: 0.2798 - val_accuracy: 0.9149\n",
      "Epoch 86/100\n",
      "6/6 [==============================] - 0s 4ms/step - loss: 0.0124 - accuracy: 1.0000 - val_loss: 0.2812 - val_accuracy: 0.9255\n",
      "Epoch 87/100\n",
      "6/6 [==============================] - 0s 4ms/step - loss: 0.0111 - accuracy: 1.0000 - val_loss: 0.2861 - val_accuracy: 0.9043\n",
      "Epoch 88/100\n",
      "6/6 [==============================] - 0s 5ms/step - loss: 0.0109 - accuracy: 1.0000 - val_loss: 0.2863 - val_accuracy: 0.9255\n",
      "Epoch 89/100\n",
      "6/6 [==============================] - 0s 4ms/step - loss: 0.0099 - accuracy: 1.0000 - val_loss: 0.2871 - val_accuracy: 0.9043\n",
      "Epoch 90/100\n",
      "6/6 [==============================] - 0s 5ms/step - loss: 0.0096 - accuracy: 1.0000 - val_loss: 0.2890 - val_accuracy: 0.9043\n",
      "Epoch 91/100\n",
      "6/6 [==============================] - 0s 4ms/step - loss: 0.0090 - accuracy: 1.0000 - val_loss: 0.2893 - val_accuracy: 0.9255\n",
      "Epoch 92/100\n",
      "6/6 [==============================] - 0s 5ms/step - loss: 0.0092 - accuracy: 1.0000 - val_loss: 0.2903 - val_accuracy: 0.9255\n",
      "Epoch 93/100\n",
      "6/6 [==============================] - 0s 4ms/step - loss: 0.0097 - accuracy: 1.0000 - val_loss: 0.3048 - val_accuracy: 0.9043\n",
      "Epoch 94/100\n",
      "6/6 [==============================] - 0s 5ms/step - loss: 0.0095 - accuracy: 1.0000 - val_loss: 0.3007 - val_accuracy: 0.9255\n",
      "Epoch 95/100\n",
      "6/6 [==============================] - 0s 4ms/step - loss: 0.0083 - accuracy: 1.0000 - val_loss: 0.2962 - val_accuracy: 0.9149\n",
      "Epoch 96/100\n",
      "6/6 [==============================] - 0s 5ms/step - loss: 0.0077 - accuracy: 1.0000 - val_loss: 0.2959 - val_accuracy: 0.9149\n",
      "Epoch 97/100\n",
      "6/6 [==============================] - 0s 5ms/step - loss: 0.0072 - accuracy: 1.0000 - val_loss: 0.2970 - val_accuracy: 0.9149\n",
      "Epoch 98/100\n",
      "6/6 [==============================] - 0s 7ms/step - loss: 0.0066 - accuracy: 1.0000 - val_loss: 0.3015 - val_accuracy: 0.9149\n",
      "Epoch 99/100\n",
      "6/6 [==============================] - 0s 5ms/step - loss: 0.0066 - accuracy: 1.0000 - val_loss: 0.3032 - val_accuracy: 0.9149\n",
      "Epoch 100/100\n",
      "6/6 [==============================] - 0s 4ms/step - loss: 0.0060 - accuracy: 1.0000 - val_loss: 0.3050 - val_accuracy: 0.9255\n"
     ]
    }
   ],
   "source": [
    "history = model.fit(X_train, y_train, epochs=100, \n",
    "          batch_size=50, \n",
    "          validation_data=(X_test, y_test))"
   ]
  },
  {
   "cell_type": "code",
   "execution_count": 179,
   "metadata": {},
   "outputs": [
    {
     "data": {
      "image/png": "[encoded data removed]",
      "text/plain": [
       "<Figure size 432x288 with 1 Axes>"
      ]
     },
     "metadata": {
      "needs_background": "light"
     },
     "output_type": "display_data"
    }
   ],
   "source": [
    "plt.plot(history.history['accuracy'])\n",
    "plt.plot(history.history['val_accuracy'])\n",
    "plt.title('Model Accuracy')\n",
    "plt.ylabel('Accuracy')\n",
    "plt.xlabel('Epoch')\n",
    "plt.legend(['Train', 'Test'], loc='upper left')\n",
    "plt.show()"
   ]
  },
  {
   "cell_type": "code",
   "execution_count": 180,
   "metadata": {},
   "outputs": [
    {
     "data": {
      "image/png": "[encoded data removed]",
      "text/plain": [
       "<Figure size 432x288 with 1 Axes>"
      ]
     },
     "metadata": {
      "needs_background": "light"
     },
     "output_type": "display_data"
    }
   ],
   "source": [
    "plt.plot(history.history['loss'])\n",
    "plt.plot(history.history['val_loss'])\n",
    "plt.title('Model Loss')\n",
    "plt.ylabel('Loss')\n",
    "plt.xlabel('Epoch')\n",
    "plt.legend(['Train', 'Test'], loc='upper left')\n",
    "plt.show()"
   ]
  },
  {
   "cell_type": "code",
   "execution_count": 181,
   "metadata": {},
   "outputs": [
    {
     "data": {
      "image/png": "[encoded data removed]",
      "text/plain": [
       "<IPython.core.display.Image object>"
      ]
     },
     "execution_count": 181,
     "metadata": {},
     "output_type": "execute_result"
    }
   ],
   "source": [
    "tf.keras.utils.plot_model(model, show_shapes=True)"
   ]
  },
  {
   "cell_type": "markdown",
   "metadata": {},
   "source": [
    "## MLP Classifier"
   ]
  },
  {
   "cell_type": "code",
   "execution_count": 182,
   "metadata": {},
   "outputs": [
    {
     "name": "stderr",
     "output_type": "stream",
     "text": [
      "/usr/local/lib/python3.9/site-packages/sklearn/neural_network/_multilayer_perceptron.py:686: ConvergenceWarning: Stochastic Optimizer: Maximum iterations (200) reached and the optimization hasn't converged yet.\n",
      "  warnings.warn(\n"
     ]
    },
    {
     "data": {
      "text/html": [
       "<style>#sk-container-id-14 {color: black;background-color: white;}#sk-container-id-14 pre{padding: 0;}#sk-container-id-14 div.sk-toggleable {background-color: white;}#sk-container-id-14 label.sk-toggleable__label {cursor: pointer;display: block;width: 100%;margin-bottom: 0;padding: 0.3em;box-sizing: border-box;text-align: center;}#sk-container-id-14 label.sk-toggleable__label-arrow:before {content: \"▸\";float: left;margin-right: 0.25em;color: #696969;}#sk-container-id-14 label.sk-toggleable__label-arrow:hover:before {color: black;}#sk-container-id-14 div.sk-estimator:hover label.sk-toggleable__label-arrow:before {color: black;}#sk-container-id-14 div.sk-toggleable__content {max-height: 0;max-width: 0;overflow: hidden;text-align: left;background-color: #f0f8ff;}#sk-container-id-14 div.sk-toggleable__content pre {margin: 0.2em;color: black;border-radius: 0.25em;background-color: #f0f8ff;}#sk-container-id-14 input.sk-toggleable__control:checked~div.sk-toggleable__content {max-height: 200px;max-width: 100%;overflow: auto;}#sk-container-id-14 input.sk-toggleable__control:checked~label.sk-toggleable__label-arrow:before {content: \"▾\";}#sk-container-id-14 div.sk-estimator input.sk-toggleable__control:checked~label.sk-toggleable__label {background-color: #d4ebff;}#sk-container-id-14 div.sk-label input.sk-toggleable__control:checked~label.sk-toggleable__label {background-color: #d4ebff;}#sk-container-id-14 input.sk-hidden--visually {border: 0;clip: rect(1px 1px 1px 1px);clip: rect(1px, 1px, 1px, 1px);height: 1px;margin: -1px;overflow: hidden;padding: 0;position: absolute;width: 1px;}#sk-container-id-14 div.sk-estimator {font-family: monospace;background-color: #f0f8ff;border: 1px dotted black;border-radius: 0.25em;box-sizing: border-box;margin-bottom: 0.5em;}#sk-container-id-14 div.sk-estimator:hover {background-color: #d4ebff;}#sk-container-id-14 div.sk-parallel-item::after {content: \"\";width: 100%;border-bottom: 1px solid gray;flex-grow: 1;}#sk-container-id-14 div.sk-label:hover label.sk-toggleable__label {background-color: #d4ebff;}#sk-container-id-14 div.sk-serial::before {content: \"\";position: absolute;border-left: 1px solid gray;box-sizing: border-box;top: 0;bottom: 0;left: 50%;z-index: 0;}#sk-container-id-14 div.sk-serial {display: flex;flex-direction: column;align-items: center;background-color: white;padding-right: 0.2em;padding-left: 0.2em;position: relative;}#sk-container-id-14 div.sk-item {position: relative;z-index: 1;}#sk-container-id-14 div.sk-parallel {display: flex;align-items: stretch;justify-content: center;background-color: white;position: relative;}#sk-container-id-14 div.sk-item::before, #sk-container-id-14 div.sk-parallel-item::before {content: \"\";position: absolute;border-left: 1px solid gray;box-sizing: border-box;top: 0;bottom: 0;left: 50%;z-index: -1;}#sk-container-id-14 div.sk-parallel-item {display: flex;flex-direction: column;z-index: 1;position: relative;background-color: white;}#sk-container-id-14 div.sk-parallel-item:first-child::after {align-self: flex-end;width: 50%;}#sk-container-id-14 div.sk-parallel-item:last-child::after {align-self: flex-start;width: 50%;}#sk-container-id-14 div.sk-parallel-item:only-child::after {width: 0;}#sk-container-id-14 div.sk-dashed-wrapped {border: 1px dashed gray;margin: 0 0.4em 0.5em 0.4em;box-sizing: border-box;padding-bottom: 0.4em;background-color: white;}#sk-container-id-14 div.sk-label label {font-family: monospace;font-weight: bold;display: inline-block;line-height: 1.2em;}#sk-container-id-14 div.sk-label-container {text-align: center;}#sk-container-id-14 div.sk-container {/* jupyter's `normalize.less` sets `[hidden] { display: none; }` but bootstrap.min.css set `[hidden] { display: none !important; }` so we also need the `!important` here to be able to override the default hidden behavior on the sphinx rendered scikit-learn.org. See: https://github.com/scikit-learn/scikit-learn/issues/21755 */display: inline-block !important;position: relative;}#sk-container-id-14 div.sk-text-repr-fallback {display: none;}</style><div id=\"sk-container-id-14\" class=\"sk-top-container\"><div class=\"sk-text-repr-fallback\"><pre>MLPClassifier(alpha=0.001, hidden_layer_sizes=[100, 100, 100])</pre><b>In a Jupyter environment, please rerun this cell to show the HTML representation or trust the notebook. <br />On GitHub, the HTML representation is unable to render, please try loading this page with nbviewer.org.</b></div><div class=\"sk-container\" hidden><div class=\"sk-item\"><div class=\"sk-estimator sk-toggleable\"><input class=\"sk-toggleable__control sk-hidden--visually\" id=\"sk-estimator-id-14\" type=\"checkbox\" checked><label for=\"sk-estimator-id-14\" class=\"sk-toggleable__label sk-toggleable__label-arrow\">MLPClassifier</label><div class=\"sk-toggleable__content\"><pre>MLPClassifier(alpha=0.001, hidden_layer_sizes=[100, 100, 100])</pre></div></div></div></div></div>"
      ],
      "text/plain": [
       "MLPClassifier(alpha=0.001, hidden_layer_sizes=[100, 100, 100])"
      ]
     },
     "execution_count": 182,
     "metadata": {},
     "output_type": "execute_result"
    }
   ],
   "source": [
    "from sklearn.neural_network import MLPClassifier\n",
    "from sklearn.metrics import accuracy_score\n",
    "\n",
    "# instantiate the model\n",
    "mlp = MLPClassifier(alpha=0.001, hidden_layer_sizes=([100, 100, 100]))\n",
    "\n",
    "# fit the model \n",
    "mlp.fit(X_train, y_train)"
   ]
  },
  {
   "cell_type": "code",
   "execution_count": 183,
   "metadata": {},
   "outputs": [],
   "source": [
    "#predicting the target value from the model for the samples\n",
    "y_test_mlp = mlp.predict(X_test)\n",
    "y_train_mlp = mlp.predict(X_train)"
   ]
  },
  {
   "cell_type": "code",
   "execution_count": 184,
   "metadata": {},
   "outputs": [
    {
     "name": "stdout",
     "output_type": "stream",
     "text": [
      "Multilayer Perceptrons: Accuracy on training Data: 1.000\n",
      "Multilayer Perceptrons: Accuracy on test Data: 0.9042553191489362\n"
     ]
    }
   ],
   "source": [
    "#computing the accuracy of the model performance\n",
    "acc_train_mlp = accuracy_score(y_train,y_train_mlp)\n",
    "acc_test_mlp = accuracy_score(y_test,y_test_mlp)\n",
    "\n",
    "print(\"Multilayer Perceptrons: Accuracy on training Data: {:.3f}\".format(acc_train_mlp))\n",
    "print(\"Multilayer Perceptrons: Accuracy on test Data:\",format(acc_test_mlp))"
   ]
  },
  {
   "cell_type": "markdown",
   "metadata": {},
   "source": [
    "## Other Implementations\n",
    "The following section contains a few other implementations that were utilized but weren't suitable for the given use case due to constraints of the model itself."
   ]
  },
  {
   "cell_type": "markdown",
   "metadata": {},
   "source": [
    "### ResNet50\n",
    "The ResNet architecture consists of a series of \"residual blocks,\" which contain skip connections that allow gradients to flow more easily through the network. These skip connections pass the input of a given layer directly to a later layer in the network, allowing information to bypass potentially problematic layers.\n",
    "\n",
    "However, ResNet is specifically designed to process images, which are represented as 3-dimensional tensors (height x width x channels). In other words, ResNet expects its inputs to be images, which have both spatial dimensions (height and width) as well as color channels (typically red, green, and blue).\n",
    "\n",
    "Covariates typically do not have spatial dimensions or color channels, and therefore cannot be represented as 3-dimensional tensors. Instead, they are usually represented as vectors (i.e., 1-dimensional arrays) or matrices (i.e., 2-dimensional arrays).\n",
    "\n",
    "So while ResNet is a powerful tool for processing images, it is not suitable for processing covariates."
   ]
  },
  {
   "cell_type": "code",
   "execution_count": 185,
   "metadata": {},
   "outputs": [
    {
     "ename": "ValueError",
     "evalue": "`input_shape` must be a tuple of three integers.",
     "output_type": "error",
     "traceback": [
      "\u001b[0;31m---------------------------------------------------------------------------\u001b[0m",
      "\u001b[0;31mValueError\u001b[0m                                Traceback (most recent call last)",
      "Input \u001b[0;32mIn [185]\u001b[0m, in \u001b[0;36m<cell line: 6>\u001b[0;34m()\u001b[0m\n\u001b[1;32m      3\u001b[0m \u001b[38;5;28;01mfrom\u001b[39;00m \u001b[38;5;21;01mkeras\u001b[39;00m\u001b[38;5;21;01m.\u001b[39;00m\u001b[38;5;21;01mapplications\u001b[39;00m\u001b[38;5;21;01m.\u001b[39;00m\u001b[38;5;21;01mresnet\u001b[39;00m \u001b[38;5;28;01mimport\u001b[39;00m ResNet50\n\u001b[1;32m      5\u001b[0m \u001b[38;5;66;03m# Create the ResNet50 model\u001b[39;00m\n\u001b[0;32m----> 6\u001b[0m base_model \u001b[38;5;241m=\u001b[39m \u001b[43mResNet50\u001b[49m\u001b[43m(\u001b[49m\u001b[43mweights\u001b[49m\u001b[38;5;241;43m=\u001b[39;49m\u001b[38;5;28;43;01mNone\u001b[39;49;00m\u001b[43m,\u001b[49m\u001b[43m \u001b[49m\u001b[43minclude_top\u001b[49m\u001b[38;5;241;43m=\u001b[39;49m\u001b[38;5;28;43;01mFalse\u001b[39;49;00m\u001b[43m,\u001b[49m\u001b[43m \u001b[49m\u001b[43minput_shape\u001b[49m\u001b[38;5;241;43m=\u001b[39;49m\u001b[43m(\u001b[49m\u001b[38;5;241;43m11\u001b[39;49m\u001b[43m,\u001b[49m\u001b[43m)\u001b[49m\u001b[43m)\u001b[49m\n\u001b[1;32m      8\u001b[0m \u001b[38;5;66;03m# Add custom dense layers on top of the pretrained model\u001b[39;00m\n\u001b[1;32m      9\u001b[0m model \u001b[38;5;241m=\u001b[39m Sequential()\n",
      "File \u001b[0;32m/usr/local/lib/python3.9/site-packages/keras/applications/resnet.py:458\u001b[0m, in \u001b[0;36mResNet50\u001b[0;34m(include_top, weights, input_tensor, input_shape, pooling, classes, **kwargs)\u001b[0m\n\u001b[1;32m    455\u001b[0m   x \u001b[38;5;241m=\u001b[39m stack1(x, \u001b[38;5;241m256\u001b[39m, \u001b[38;5;241m6\u001b[39m, name\u001b[38;5;241m=\u001b[39m\u001b[38;5;124m'\u001b[39m\u001b[38;5;124mconv4\u001b[39m\u001b[38;5;124m'\u001b[39m)\n\u001b[1;32m    456\u001b[0m   \u001b[38;5;28;01mreturn\u001b[39;00m stack1(x, \u001b[38;5;241m512\u001b[39m, \u001b[38;5;241m3\u001b[39m, name\u001b[38;5;241m=\u001b[39m\u001b[38;5;124m'\u001b[39m\u001b[38;5;124mconv5\u001b[39m\u001b[38;5;124m'\u001b[39m)\n\u001b[0;32m--> 458\u001b[0m \u001b[38;5;28;01mreturn\u001b[39;00m \u001b[43mResNet\u001b[49m\u001b[43m(\u001b[49m\u001b[43mstack_fn\u001b[49m\u001b[43m,\u001b[49m\u001b[43m \u001b[49m\u001b[38;5;28;43;01mFalse\u001b[39;49;00m\u001b[43m,\u001b[49m\u001b[43m \u001b[49m\u001b[38;5;28;43;01mTrue\u001b[39;49;00m\u001b[43m,\u001b[49m\u001b[43m \u001b[49m\u001b[38;5;124;43m'\u001b[39;49m\u001b[38;5;124;43mresnet50\u001b[39;49m\u001b[38;5;124;43m'\u001b[39;49m\u001b[43m,\u001b[49m\u001b[43m \u001b[49m\u001b[43minclude_top\u001b[49m\u001b[43m,\u001b[49m\u001b[43m \u001b[49m\u001b[43mweights\u001b[49m\u001b[43m,\u001b[49m\n\u001b[1;32m    459\u001b[0m \u001b[43m              \u001b[49m\u001b[43minput_tensor\u001b[49m\u001b[43m,\u001b[49m\u001b[43m \u001b[49m\u001b[43minput_shape\u001b[49m\u001b[43m,\u001b[49m\u001b[43m \u001b[49m\u001b[43mpooling\u001b[49m\u001b[43m,\u001b[49m\u001b[43m \u001b[49m\u001b[43mclasses\u001b[49m\u001b[43m,\u001b[49m\u001b[43m \u001b[49m\u001b[38;5;241;43m*\u001b[39;49m\u001b[38;5;241;43m*\u001b[39;49m\u001b[43mkwargs\u001b[49m\u001b[43m)\u001b[49m\n",
      "File \u001b[0;32m/usr/local/lib/python3.9/site-packages/keras/applications/resnet.py:135\u001b[0m, in \u001b[0;36mResNet\u001b[0;34m(stack_fn, preact, use_bias, model_name, include_top, weights, input_tensor, input_shape, pooling, classes, classifier_activation, **kwargs)\u001b[0m\n\u001b[1;32m    131\u001b[0m   \u001b[38;5;28;01mraise\u001b[39;00m \u001b[38;5;167;01mValueError\u001b[39;00m(\u001b[38;5;124m'\u001b[39m\u001b[38;5;124mIf using `weights` as `\u001b[39m\u001b[38;5;124m\"\u001b[39m\u001b[38;5;124mimagenet\u001b[39m\u001b[38;5;124m\"\u001b[39m\u001b[38;5;124m` with `include_top`\u001b[39m\u001b[38;5;124m'\u001b[39m\n\u001b[1;32m    132\u001b[0m                    \u001b[38;5;124m'\u001b[39m\u001b[38;5;124m as true, `classes` should be 1000\u001b[39m\u001b[38;5;124m'\u001b[39m)\n\u001b[1;32m    134\u001b[0m \u001b[38;5;66;03m# Determine proper input shape\u001b[39;00m\n\u001b[0;32m--> 135\u001b[0m input_shape \u001b[38;5;241m=\u001b[39m \u001b[43mimagenet_utils\u001b[49m\u001b[38;5;241;43m.\u001b[39;49m\u001b[43mobtain_input_shape\u001b[49m\u001b[43m(\u001b[49m\n\u001b[1;32m    136\u001b[0m \u001b[43m    \u001b[49m\u001b[43minput_shape\u001b[49m\u001b[43m,\u001b[49m\n\u001b[1;32m    137\u001b[0m \u001b[43m    \u001b[49m\u001b[43mdefault_size\u001b[49m\u001b[38;5;241;43m=\u001b[39;49m\u001b[38;5;241;43m224\u001b[39;49m\u001b[43m,\u001b[49m\n\u001b[1;32m    138\u001b[0m \u001b[43m    \u001b[49m\u001b[43mmin_size\u001b[49m\u001b[38;5;241;43m=\u001b[39;49m\u001b[38;5;241;43m32\u001b[39;49m\u001b[43m,\u001b[49m\n\u001b[1;32m    139\u001b[0m \u001b[43m    \u001b[49m\u001b[43mdata_format\u001b[49m\u001b[38;5;241;43m=\u001b[39;49m\u001b[43mbackend\u001b[49m\u001b[38;5;241;43m.\u001b[39;49m\u001b[43mimage_data_format\u001b[49m\u001b[43m(\u001b[49m\u001b[43m)\u001b[49m\u001b[43m,\u001b[49m\n\u001b[1;32m    140\u001b[0m \u001b[43m    \u001b[49m\u001b[43mrequire_flatten\u001b[49m\u001b[38;5;241;43m=\u001b[39;49m\u001b[43minclude_top\u001b[49m\u001b[43m,\u001b[49m\n\u001b[1;32m    141\u001b[0m \u001b[43m    \u001b[49m\u001b[43mweights\u001b[49m\u001b[38;5;241;43m=\u001b[39;49m\u001b[43mweights\u001b[49m\u001b[43m)\u001b[49m\n\u001b[1;32m    143\u001b[0m \u001b[38;5;28;01mif\u001b[39;00m input_tensor \u001b[38;5;129;01mis\u001b[39;00m \u001b[38;5;28;01mNone\u001b[39;00m:\n\u001b[1;32m    144\u001b[0m   img_input \u001b[38;5;241m=\u001b[39m layers\u001b[38;5;241m.\u001b[39mInput(shape\u001b[38;5;241m=\u001b[39minput_shape)\n",
      "File \u001b[0;32m/usr/local/lib/python3.9/site-packages/keras/applications/imagenet_utils.py:370\u001b[0m, in \u001b[0;36mobtain_input_shape\u001b[0;34m(input_shape, default_size, min_size, data_format, require_flatten, weights)\u001b[0m\n\u001b[1;32m    368\u001b[0m \u001b[38;5;28;01mif\u001b[39;00m input_shape \u001b[38;5;129;01mis\u001b[39;00m \u001b[38;5;129;01mnot\u001b[39;00m \u001b[38;5;28;01mNone\u001b[39;00m:\n\u001b[1;32m    369\u001b[0m   \u001b[38;5;28;01mif\u001b[39;00m \u001b[38;5;28mlen\u001b[39m(input_shape) \u001b[38;5;241m!=\u001b[39m \u001b[38;5;241m3\u001b[39m:\n\u001b[0;32m--> 370\u001b[0m     \u001b[38;5;28;01mraise\u001b[39;00m \u001b[38;5;167;01mValueError\u001b[39;00m(\u001b[38;5;124m'\u001b[39m\u001b[38;5;124m`input_shape` must be a tuple of three integers.\u001b[39m\u001b[38;5;124m'\u001b[39m)\n\u001b[1;32m    371\u001b[0m   \u001b[38;5;28;01mif\u001b[39;00m input_shape[\u001b[38;5;241m-\u001b[39m\u001b[38;5;241m1\u001b[39m] \u001b[38;5;241m!=\u001b[39m \u001b[38;5;241m3\u001b[39m \u001b[38;5;129;01mand\u001b[39;00m weights \u001b[38;5;241m==\u001b[39m \u001b[38;5;124m'\u001b[39m\u001b[38;5;124mimagenet\u001b[39m\u001b[38;5;124m'\u001b[39m:\n\u001b[1;32m    372\u001b[0m     \u001b[38;5;28;01mraise\u001b[39;00m \u001b[38;5;167;01mValueError\u001b[39;00m(\u001b[38;5;124m'\u001b[39m\u001b[38;5;124mThe input must have 3 channels; Received \u001b[39m\u001b[38;5;124m'\u001b[39m\n\u001b[1;32m    373\u001b[0m                      \u001b[38;5;124mf\u001b[39m\u001b[38;5;124m'\u001b[39m\u001b[38;5;124m`input_shape=\u001b[39m\u001b[38;5;132;01m{\u001b[39;00minput_shape\u001b[38;5;132;01m}\u001b[39;00m\u001b[38;5;124m`\u001b[39m\u001b[38;5;124m'\u001b[39m)\n",
      "\u001b[0;31mValueError\u001b[0m: `input_shape` must be a tuple of three integers."
     ]
    }
   ],
   "source": [
    "from keras.models import Sequential\n",
    "from keras.layers import Dense, Dropout\n",
    "from keras.applications.resnet import ResNet50\n",
    "\n",
    "# Create the ResNet50 model\n",
    "base_model = ResNet50(weights=None, include_top=False, input_shape=(11,))\n",
    "\n",
    "# Add custom dense layers on top of the pretrained model\n",
    "model = Sequential()\n",
    "model.add(base_model)\n",
    "model.add(Dense(1024, activation='relu'))\n",
    "model.add(Dropout(0.5))\n",
    "model.add(Dense(1, activation='sigmoid'))\n",
    "\n",
    "# Compile the model with appropriate loss and optimizer\n",
    "model.compile(loss='binary_crossentropy', optimizer='adam', metrics=['accuracy'])\n",
    "\n",
    "# Train the model on your training data\n",
    "model.fit(X_train, y_train, epochs=10, batch_size=32, validation_data=(X_test, y_test))\n",
    "\n",
    "# Evaluate the model on your testing data\n",
    "score = model.evaluate(X_test, y_test, verbose=0)\n",
    "print(\"Test loss:\", score[0])\n",
    "print(\"Test accuracy:\", score[1])\n",
    "\n",
    "# Make predictions on new data\n",
    "y_pred = model.predict(X_new)\n"
   ]
  },
  {
   "cell_type": "markdown",
   "metadata": {},
   "source": [
    "### GANs\n",
    "Like ResNet, GANs are designed to process inputs that are represented as 3-dimensional tensors (height x width x channels) in the case of image generation. However, GANs require more than just a 3-dimensional tensor as input - they require a noise vector as well.\n",
    "\n",
    "This noise vector is typically a 1-dimensional array of random values, and it is used as input to the generator network in a GAN. The generator then uses this noise vector to produce a generated image, which is then evaluated by the discriminator network to determine if it is real or fake.\n",
    "\n",
    "Covariates, on the other hand, are not typically represented as 3-dimensional tensors or noise vectors. Instead, covariates are usually represented as vectors or matrices, as mentioned earlier. Therefore, GANs are not suitable for processing covariates directly. "
   ]
  },
  {
   "cell_type": "code",
   "execution_count": 186,
   "metadata": {},
   "outputs": [
    {
     "name": "stderr",
     "output_type": "stream",
     "text": [
      "/usr/local/lib/python3.9/site-packages/keras/optimizer_v2/adam.py:105: UserWarning: The `lr` argument is deprecated, use `learning_rate` instead.\n",
      "  super(Adam, self).__init__(name, **kwargs)\n"
     ]
    },
    {
     "ename": "KeyError",
     "evalue": "'[133, 210, 130, 48, 250, 214, 80, 243, 37, 181, 1, 242, 276, 208, 103, 203, 76, 95, 222, 194, 43, 255, 112, 117, 257, 19, 17, 136, 195] not in index'",
     "output_type": "error",
     "traceback": [
      "\u001b[0;31m---------------------------------------------------------------------------\u001b[0m",
      "\u001b[0;31mKeyError\u001b[0m                                  Traceback (most recent call last)",
      "Input \u001b[0;32mIn [186]\u001b[0m, in \u001b[0;36m<cell line: 49>\u001b[0;34m()\u001b[0m\n\u001b[1;32m     53\u001b[0m real_indices \u001b[38;5;241m=\u001b[39m np\u001b[38;5;241m.\u001b[39mrandom\u001b[38;5;241m.\u001b[39mrandint(\u001b[38;5;241m0\u001b[39m, X_train\u001b[38;5;241m.\u001b[39mshape[\u001b[38;5;241m0\u001b[39m], batch_size)\n\u001b[1;32m     54\u001b[0m real_data \u001b[38;5;241m=\u001b[39m X_train[real_indices]\n\u001b[0;32m---> 55\u001b[0m real_labels \u001b[38;5;241m=\u001b[39m \u001b[43my_train\u001b[49m\u001b[43m[\u001b[49m\u001b[43mreal_indices\u001b[49m\u001b[43m]\u001b[49m\n\u001b[1;32m     57\u001b[0m \u001b[38;5;66;03m# Train the discriminator\u001b[39;00m\n\u001b[1;32m     58\u001b[0m discriminator\u001b[38;5;241m.\u001b[39mtrainable \u001b[38;5;241m=\u001b[39m \u001b[38;5;28;01mTrue\u001b[39;00m\n",
      "File \u001b[0;32m/usr/local/lib/python3.9/site-packages/pandas/core/series.py:984\u001b[0m, in \u001b[0;36mSeries.__getitem__\u001b[0;34m(self, key)\u001b[0m\n\u001b[1;32m    981\u001b[0m     key \u001b[38;5;241m=\u001b[39m np\u001b[38;5;241m.\u001b[39masarray(key, dtype\u001b[38;5;241m=\u001b[39m\u001b[38;5;28mbool\u001b[39m)\n\u001b[1;32m    982\u001b[0m     \u001b[38;5;28;01mreturn\u001b[39;00m \u001b[38;5;28mself\u001b[39m\u001b[38;5;241m.\u001b[39m_get_values(key)\n\u001b[0;32m--> 984\u001b[0m \u001b[38;5;28;01mreturn\u001b[39;00m \u001b[38;5;28;43mself\u001b[39;49m\u001b[38;5;241;43m.\u001b[39;49m\u001b[43m_get_with\u001b[49m\u001b[43m(\u001b[49m\u001b[43mkey\u001b[49m\u001b[43m)\u001b[49m\n",
      "File \u001b[0;32m/usr/local/lib/python3.9/site-packages/pandas/core/series.py:1019\u001b[0m, in \u001b[0;36mSeries._get_with\u001b[0;34m(self, key)\u001b[0m\n\u001b[1;32m   1015\u001b[0m \u001b[38;5;28;01mif\u001b[39;00m key_type \u001b[38;5;241m==\u001b[39m \u001b[38;5;124m\"\u001b[39m\u001b[38;5;124minteger\u001b[39m\u001b[38;5;124m\"\u001b[39m:\n\u001b[1;32m   1016\u001b[0m     \u001b[38;5;66;03m# We need to decide whether to treat this as a positional indexer\u001b[39;00m\n\u001b[1;32m   1017\u001b[0m     \u001b[38;5;66;03m#  (i.e. self.iloc) or label-based (i.e. self.loc)\u001b[39;00m\n\u001b[1;32m   1018\u001b[0m     \u001b[38;5;28;01mif\u001b[39;00m \u001b[38;5;129;01mnot\u001b[39;00m \u001b[38;5;28mself\u001b[39m\u001b[38;5;241m.\u001b[39mindex\u001b[38;5;241m.\u001b[39m_should_fallback_to_positional:\n\u001b[0;32m-> 1019\u001b[0m         \u001b[38;5;28;01mreturn\u001b[39;00m \u001b[38;5;28;43mself\u001b[39;49m\u001b[38;5;241;43m.\u001b[39;49m\u001b[43mloc\u001b[49m\u001b[43m[\u001b[49m\u001b[43mkey\u001b[49m\u001b[43m]\u001b[49m\n\u001b[1;32m   1020\u001b[0m     \u001b[38;5;28;01melse\u001b[39;00m:\n\u001b[1;32m   1021\u001b[0m         \u001b[38;5;28;01mreturn\u001b[39;00m \u001b[38;5;28mself\u001b[39m\u001b[38;5;241m.\u001b[39miloc[key]\n",
      "File \u001b[0;32m/usr/local/lib/python3.9/site-packages/pandas/core/indexing.py:967\u001b[0m, in \u001b[0;36m_LocationIndexer.__getitem__\u001b[0;34m(self, key)\u001b[0m\n\u001b[1;32m    964\u001b[0m axis \u001b[38;5;241m=\u001b[39m \u001b[38;5;28mself\u001b[39m\u001b[38;5;241m.\u001b[39maxis \u001b[38;5;129;01mor\u001b[39;00m \u001b[38;5;241m0\u001b[39m\n\u001b[1;32m    966\u001b[0m maybe_callable \u001b[38;5;241m=\u001b[39m com\u001b[38;5;241m.\u001b[39mapply_if_callable(key, \u001b[38;5;28mself\u001b[39m\u001b[38;5;241m.\u001b[39mobj)\n\u001b[0;32m--> 967\u001b[0m \u001b[38;5;28;01mreturn\u001b[39;00m \u001b[38;5;28;43mself\u001b[39;49m\u001b[38;5;241;43m.\u001b[39;49m\u001b[43m_getitem_axis\u001b[49m\u001b[43m(\u001b[49m\u001b[43mmaybe_callable\u001b[49m\u001b[43m,\u001b[49m\u001b[43m \u001b[49m\u001b[43maxis\u001b[49m\u001b[38;5;241;43m=\u001b[39;49m\u001b[43maxis\u001b[49m\u001b[43m)\u001b[49m\n",
      "File \u001b[0;32m/usr/local/lib/python3.9/site-packages/pandas/core/indexing.py:1191\u001b[0m, in \u001b[0;36m_LocIndexer._getitem_axis\u001b[0;34m(self, key, axis)\u001b[0m\n\u001b[1;32m   1188\u001b[0m     \u001b[38;5;28;01mif\u001b[39;00m \u001b[38;5;28mhasattr\u001b[39m(key, \u001b[38;5;124m\"\u001b[39m\u001b[38;5;124mndim\u001b[39m\u001b[38;5;124m\"\u001b[39m) \u001b[38;5;129;01mand\u001b[39;00m key\u001b[38;5;241m.\u001b[39mndim \u001b[38;5;241m>\u001b[39m \u001b[38;5;241m1\u001b[39m:\n\u001b[1;32m   1189\u001b[0m         \u001b[38;5;28;01mraise\u001b[39;00m \u001b[38;5;167;01mValueError\u001b[39;00m(\u001b[38;5;124m\"\u001b[39m\u001b[38;5;124mCannot index with multidimensional key\u001b[39m\u001b[38;5;124m\"\u001b[39m)\n\u001b[0;32m-> 1191\u001b[0m     \u001b[38;5;28;01mreturn\u001b[39;00m \u001b[38;5;28;43mself\u001b[39;49m\u001b[38;5;241;43m.\u001b[39;49m\u001b[43m_getitem_iterable\u001b[49m\u001b[43m(\u001b[49m\u001b[43mkey\u001b[49m\u001b[43m,\u001b[49m\u001b[43m \u001b[49m\u001b[43maxis\u001b[49m\u001b[38;5;241;43m=\u001b[39;49m\u001b[43maxis\u001b[49m\u001b[43m)\u001b[49m\n\u001b[1;32m   1193\u001b[0m \u001b[38;5;66;03m# nested tuple slicing\u001b[39;00m\n\u001b[1;32m   1194\u001b[0m \u001b[38;5;28;01mif\u001b[39;00m is_nested_tuple(key, labels):\n",
      "File \u001b[0;32m/usr/local/lib/python3.9/site-packages/pandas/core/indexing.py:1132\u001b[0m, in \u001b[0;36m_LocIndexer._getitem_iterable\u001b[0;34m(self, key, axis)\u001b[0m\n\u001b[1;32m   1129\u001b[0m \u001b[38;5;28mself\u001b[39m\u001b[38;5;241m.\u001b[39m_validate_key(key, axis)\n\u001b[1;32m   1131\u001b[0m \u001b[38;5;66;03m# A collection of keys\u001b[39;00m\n\u001b[0;32m-> 1132\u001b[0m keyarr, indexer \u001b[38;5;241m=\u001b[39m \u001b[38;5;28;43mself\u001b[39;49m\u001b[38;5;241;43m.\u001b[39;49m\u001b[43m_get_listlike_indexer\u001b[49m\u001b[43m(\u001b[49m\u001b[43mkey\u001b[49m\u001b[43m,\u001b[49m\u001b[43m \u001b[49m\u001b[43maxis\u001b[49m\u001b[43m)\u001b[49m\n\u001b[1;32m   1133\u001b[0m \u001b[38;5;28;01mreturn\u001b[39;00m \u001b[38;5;28mself\u001b[39m\u001b[38;5;241m.\u001b[39mobj\u001b[38;5;241m.\u001b[39m_reindex_with_indexers(\n\u001b[1;32m   1134\u001b[0m     {axis: [keyarr, indexer]}, copy\u001b[38;5;241m=\u001b[39m\u001b[38;5;28;01mTrue\u001b[39;00m, allow_dups\u001b[38;5;241m=\u001b[39m\u001b[38;5;28;01mTrue\u001b[39;00m\n\u001b[1;32m   1135\u001b[0m )\n",
      "File \u001b[0;32m/usr/local/lib/python3.9/site-packages/pandas/core/indexing.py:1327\u001b[0m, in \u001b[0;36m_LocIndexer._get_listlike_indexer\u001b[0;34m(self, key, axis)\u001b[0m\n\u001b[1;32m   1324\u001b[0m ax \u001b[38;5;241m=\u001b[39m \u001b[38;5;28mself\u001b[39m\u001b[38;5;241m.\u001b[39mobj\u001b[38;5;241m.\u001b[39m_get_axis(axis)\n\u001b[1;32m   1325\u001b[0m axis_name \u001b[38;5;241m=\u001b[39m \u001b[38;5;28mself\u001b[39m\u001b[38;5;241m.\u001b[39mobj\u001b[38;5;241m.\u001b[39m_get_axis_name(axis)\n\u001b[0;32m-> 1327\u001b[0m keyarr, indexer \u001b[38;5;241m=\u001b[39m \u001b[43max\u001b[49m\u001b[38;5;241;43m.\u001b[39;49m\u001b[43m_get_indexer_strict\u001b[49m\u001b[43m(\u001b[49m\u001b[43mkey\u001b[49m\u001b[43m,\u001b[49m\u001b[43m \u001b[49m\u001b[43maxis_name\u001b[49m\u001b[43m)\u001b[49m\n\u001b[1;32m   1329\u001b[0m \u001b[38;5;28;01mreturn\u001b[39;00m keyarr, indexer\n",
      "File \u001b[0;32m/usr/local/lib/python3.9/site-packages/pandas/core/indexes/base.py:5782\u001b[0m, in \u001b[0;36mIndex._get_indexer_strict\u001b[0;34m(self, key, axis_name)\u001b[0m\n\u001b[1;32m   5779\u001b[0m \u001b[38;5;28;01melse\u001b[39;00m:\n\u001b[1;32m   5780\u001b[0m     keyarr, indexer, new_indexer \u001b[38;5;241m=\u001b[39m \u001b[38;5;28mself\u001b[39m\u001b[38;5;241m.\u001b[39m_reindex_non_unique(keyarr)\n\u001b[0;32m-> 5782\u001b[0m \u001b[38;5;28;43mself\u001b[39;49m\u001b[38;5;241;43m.\u001b[39;49m\u001b[43m_raise_if_missing\u001b[49m\u001b[43m(\u001b[49m\u001b[43mkeyarr\u001b[49m\u001b[43m,\u001b[49m\u001b[43m \u001b[49m\u001b[43mindexer\u001b[49m\u001b[43m,\u001b[49m\u001b[43m \u001b[49m\u001b[43maxis_name\u001b[49m\u001b[43m)\u001b[49m\n\u001b[1;32m   5784\u001b[0m keyarr \u001b[38;5;241m=\u001b[39m \u001b[38;5;28mself\u001b[39m\u001b[38;5;241m.\u001b[39mtake(indexer)\n\u001b[1;32m   5785\u001b[0m \u001b[38;5;28;01mif\u001b[39;00m \u001b[38;5;28misinstance\u001b[39m(key, Index):\n\u001b[1;32m   5786\u001b[0m     \u001b[38;5;66;03m# GH 42790 - Preserve name from an Index\u001b[39;00m\n",
      "File \u001b[0;32m/usr/local/lib/python3.9/site-packages/pandas/core/indexes/base.py:5845\u001b[0m, in \u001b[0;36mIndex._raise_if_missing\u001b[0;34m(self, key, indexer, axis_name)\u001b[0m\n\u001b[1;32m   5842\u001b[0m     \u001b[38;5;28;01mraise\u001b[39;00m \u001b[38;5;167;01mKeyError\u001b[39;00m(\u001b[38;5;124mf\u001b[39m\u001b[38;5;124m\"\u001b[39m\u001b[38;5;124mNone of [\u001b[39m\u001b[38;5;132;01m{\u001b[39;00mkey\u001b[38;5;132;01m}\u001b[39;00m\u001b[38;5;124m] are in the [\u001b[39m\u001b[38;5;132;01m{\u001b[39;00maxis_name\u001b[38;5;132;01m}\u001b[39;00m\u001b[38;5;124m]\u001b[39m\u001b[38;5;124m\"\u001b[39m)\n\u001b[1;32m   5844\u001b[0m not_found \u001b[38;5;241m=\u001b[39m \u001b[38;5;28mlist\u001b[39m(ensure_index(key)[missing_mask\u001b[38;5;241m.\u001b[39mnonzero()[\u001b[38;5;241m0\u001b[39m]]\u001b[38;5;241m.\u001b[39munique())\n\u001b[0;32m-> 5845\u001b[0m \u001b[38;5;28;01mraise\u001b[39;00m \u001b[38;5;167;01mKeyError\u001b[39;00m(\u001b[38;5;124mf\u001b[39m\u001b[38;5;124m\"\u001b[39m\u001b[38;5;132;01m{\u001b[39;00mnot_found\u001b[38;5;132;01m}\u001b[39;00m\u001b[38;5;124m not in index\u001b[39m\u001b[38;5;124m\"\u001b[39m)\n",
      "\u001b[0;31mKeyError\u001b[0m: '[133, 210, 130, 48, 250, 214, 80, 243, 37, 181, 1, 242, 276, 208, 103, 203, 76, 95, 222, 194, 43, 255, 112, 117, 257, 19, 17, 136, 195] not in index'"
     ]
    }
   ],
   "source": [
    "from keras.layers import Dense, Reshape, Flatten, Input, Concatenate, Embedding\n",
    "from keras.models import Model\n",
    "from tensorflow.keras.optimizers import Adam\n",
    "import numpy as np\n",
    "\n",
    "# Define the generator model\n",
    "def build_generator():\n",
    "    noise_input = Input(shape=(100,))\n",
    "    label_input = Input(shape=(1,))\n",
    "    label_embedding = Flatten()(Embedding(3, 100)(label_input))\n",
    "    combined_input = Concatenate()([noise_input, label_embedding])\n",
    "    x = Dense(256, activation='relu')(combined_input)\n",
    "    x = Dense(512, activation='relu')(x)\n",
    "    x = Dense(1024, activation='relu')(x)\n",
    "    x = Dense(X_train.shape[1], activation='tanh')(x)\n",
    "    x = Reshape(X_train.shape[1:])(x)\n",
    "    return Model(inputs=[noise_input, label_input], outputs=x)\n",
    "\n",
    "# Define the discriminator model\n",
    "def build_discriminator():\n",
    "    input_data = Input(shape=X_train.shape[1:])\n",
    "    x = Flatten()(input_data)\n",
    "    x = Dense(512, activation='relu')(x)\n",
    "    x = Dense(256, activation='relu')(x)\n",
    "    output = Dense(1, activation='sigmoid')(x)\n",
    "    return Model(inputs=input_data, outputs=output)\n",
    "\n",
    "# Build and compile the GAN model\n",
    "def build_gan(generator, discriminator):\n",
    "    discriminator.trainable = False\n",
    "    noise_input = Input(shape=(100,))\n",
    "    label_input = Input(shape=(1,))\n",
    "    generated_data = generator([noise_input, label_input])\n",
    "    discriminator_output = discriminator(generated_data)\n",
    "    gan = Model(inputs=[noise_input, label_input], outputs=discriminator_output)\n",
    "    gan.compile(loss='binary_crossentropy', optimizer=Adam(lr=0.0002, beta_1=0.5))\n",
    "    return gan\n",
    "\n",
    "# Build the generator and discriminator models\n",
    "generator = build_generator()\n",
    "discriminator = build_discriminator()\n",
    "\n",
    "# Build the GAN model\n",
    "gan = build_gan(generator, discriminator)\n",
    "\n",
    "# Train the GAN\n",
    "batch_size = 128\n",
    "epochs = 10000\n",
    "for epoch in range(epochs):\n",
    "    noise = np.random.normal(0, 1, (batch_size, 100))\n",
    "    labels = np.random.randint(0, 3, (batch_size, 1))\n",
    "    fake_data = generator.predict([noise, labels])\n",
    "    real_indices = np.random.randint(0, X_train.shape[0], batch_size)\n",
    "    real_data = X_train[real_indices]\n",
    "    real_labels = y_train[real_indices]\n",
    "\n",
    "    # Train the discriminator\n",
    "    discriminator.trainable = True\n",
    "    discriminator.train_on_batch(real_data, np.ones(batch_size))\n",
    "    discriminator.train_on_batch(fake_data, np.zeros(batch_size))\n",
    "\n",
    "    # Train the generator\n",
    "    discriminator.trainable = False\n",
    "    gan.train_on_batch([noise, labels], np.ones(batch_size))\n",
    "\n",
    "    # Print the loss and save the generated samples\n",
    "    if epoch % 100 == 0:\n",
    "        print(\"Epoch: {}/{}\".format(epoch, epochs))\n",
    "        print(\"Discriminator loss:\", discriminator.history['loss'][-1])\n",
    "        print(\"Generator loss:\", gan.history['loss'][-1])\n",
    "        generated_data = generator.predict([np.random.normal(0, 1, (10, 100)), np.random.randint(0, 3, (10, 1))])\n",
    "        print(\"Generated data:\", generated_data)\n",
    "\n",
    "# Use the generator to generate new samples\n",
    "new_data = generator.predict([np.random.normal(0, 1, (100, 100)), np.random.randint(0, 3, (100, 1))])\n",
    "discriminator.predict(new_data)\n",
    "test_labels = y_test.argmax(axis=1)\n",
    "test_loss, test_accuracy = gan.evaluate([X_test, test_labels], y_test)\n",
    "\n",
    "print(\"Test loss:\", test_loss)\n",
    "print(\"Test accuracy:\", test_accuracy)                                            "
   ]
  },
  {
   "cell_type": "code",
   "execution_count": null,
   "metadata": {},
   "outputs": [],
   "source": []
  }
 ],
 "metadata": {
  "colab": {
   "provenance": []
  },
  "kernelspec": {
   "display_name": "Python 3 (ipykernel)",
   "language": "python",
   "name": "python3"
  },
  "language_info": {
   "codemirror_mode": {
    "name": "ipython",
    "version": 3
   },
   "file_extension": ".py",
   "mimetype": "text/x-python",
   "name": "python",
   "nbconvert_exporter": "python",
   "pygments_lexer": "ipython3",
   "version": "3.9.13"
  }
 },
 "nbformat": 4,
 "nbformat_minor": 1
}
